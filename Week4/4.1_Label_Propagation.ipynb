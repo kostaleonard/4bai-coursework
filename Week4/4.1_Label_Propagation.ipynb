{
 "cells": [
  {
   "cell_type": "markdown",
   "metadata": {
    "id": "ieUiNqS3KCZw"
   },
   "source": [
    "# Label Propagation\n",
    "\n",
    "## Label propagation is similar to training a classification model and then using that model to make predictions on test data. The key difference is that in general, our analogue to the test data has no labels against which to evaluate our model. In this exercise, we keep the entire set of true labels for illustrative purposes, but the vast marjority of them play no role in training the model. \n",
    "\n",
    "## This exercise is adapted from scikit-learn's [tutorial](https://scikit-learn.org/stable/auto_examples/semi_supervised/plot_label_propagation_digits.html) on zero shot learning ."
   ]
  },
  {
   "cell_type": "markdown",
   "metadata": {
    "id": "IESgGiUAlfZn"
   },
   "source": [
    "### Load the necessary modules and functions"
   ]
  },
  {
   "cell_type": "code",
   "execution_count": 1,
   "metadata": {
    "id": "hOVZd8fjgJyK"
   },
   "outputs": [
    {
     "name": "stderr",
     "output_type": "stream",
     "text": [
      "In /Users/leo/anaconda3/lib/python3.6/site-packages/matplotlib/mpl-data/stylelib/_classic_test.mplstyle: \n",
      "The savefig.frameon rcparam was deprecated in Matplotlib 3.1 and will be removed in 3.3.\n",
      "In /Users/leo/anaconda3/lib/python3.6/site-packages/matplotlib/mpl-data/stylelib/_classic_test.mplstyle: \n",
      "The verbose.level rcparam was deprecated in Matplotlib 3.1 and will be removed in 3.3.\n",
      "In /Users/leo/anaconda3/lib/python3.6/site-packages/matplotlib/mpl-data/stylelib/_classic_test.mplstyle: \n",
      "The verbose.fileo rcparam was deprecated in Matplotlib 3.1 and will be removed in 3.3.\n"
     ]
    }
   ],
   "source": [
    "import numpy as np\n",
    "import matplotlib.pyplot as plt\n",
    "\n",
    "from scipy import stats\n",
    "\n",
    "from sklearn import datasets\n",
    "from sklearn.semi_supervised import LabelSpreading\n",
    "\n",
    "from sklearn.metrics import confusion_matrix, classification_report"
   ]
  },
  {
   "cell_type": "markdown",
   "metadata": {
    "id": "0An6u8e9loVQ"
   },
   "source": [
    "### Exercise: Load and preprocess the data. \n",
    "1. Shuffle the indices\n",
    "2. Use the shuffled indices to extract 1000 random samples from the features data\n",
    "3. Extract the corresponding 1000 labels and images\n",
    "4. Copy the labels. Treat the first 50 shuffled samples as labeled data and the rest as unlabeled data. Replace the labels after the first 50 with -1.\n",
    "\n",
    "We'll use this copy of our labels (with 50 labels known and the other 950 hidden) to train our model, and use the original copy (with all 1000 labels known) to evaluate the model."
   ]
  },
  {
   "cell_type": "code",
   "execution_count": 35,
   "metadata": {
    "id": "XyaWhrhCgJyO"
   },
   "outputs": [],
   "source": [
    "# Load the digits dataset\n",
    "# digits = {data,target,indices}; n = 1797\n",
    "digits = datasets.load_digits()\n",
    "\n",
    "# Set the random state to 2 for reproducibility\n",
    "rng = np.random.RandomState(2)\n",
    "\n",
    "### START CODE HERE ###\n",
    "# Initialize the indices as an ordered array, with each element corresponding to a sample in the dataset\n",
    "indices = np.arange(digits['data'].shape[0])\n",
    "\n",
    "# Shuffle the indices\n",
    "rng.shuffle(indices)\n",
    "\n",
    "# Use the shuffled indices to extract 1000 feature vectors, labels, and images\n",
    "n_total_samples = 1000\n",
    "# Features\n",
    "X = digits['data'][indices[:n_total_samples]]\n",
    "# Labels\n",
    "y = digits['target'][indices[:n_total_samples]]\n",
    "# Images\n",
    "images = digits['images'][indices[:n_total_samples]]\n",
    "\n",
    "# Copy the labels\n",
    "n_labeled_points = 50\n",
    "y_train = np.concatenate((y[:n_labeled_points], np.full((n_total_samples - n_labeled_points,), -1)), axis=0)\n",
    "\n",
    "# Replace all of the elements of y_train after the first 50 with -1, rendering them unlabeled\n",
    "#n_labeled_points = 50\n",
    "# Create an ordered array of indices of the training data\n",
    "#train_indices = None\n",
    "# Define the training data indices after n_labeled_points as unlabeled\n",
    "#unlabeled_set = None\n",
    "# Conduct the label replacement\n",
    "#y_train[unlabeled_set] = None\n",
    "### END CODE HERE ###"
   ]
  },
  {
   "cell_type": "markdown",
   "metadata": {
    "id": "Ij_hVMtyvomW"
   },
   "source": [
    "### Verify that the labels are randomly distributed and all the labels after the first 50 in `y_train` are hidden"
   ]
  },
  {
   "cell_type": "code",
   "execution_count": 46,
   "metadata": {
    "id": "39CAoaBzgJyR"
   },
   "outputs": [
    {
     "name": "stdout",
     "output_type": "stream",
     "text": [
      "(1000, 64)\n",
      "[ 4  0  9  1  4  7  1  5  1  6  6  7  6  1  5  5  4  6  2  7  4  6  4  1\n",
      "  5  2  9  5  4  6  5  6  3  4  0  9  9  8  4  6  8  8  5  7  9  6  9  6\n",
      "  1  3 -1 -1 -1 -1 -1 -1 -1 -1 -1 -1 -1 -1 -1 -1 -1 -1 -1 -1 -1 -1 -1 -1\n",
      " -1 -1 -1 -1 -1 -1 -1 -1 -1 -1 -1 -1 -1 -1 -1 -1 -1 -1 -1 -1 -1 -1 -1 -1\n",
      " -1 -1 -1 -1]\n"
     ]
    }
   ],
   "source": [
    "print(X.shape)\n",
    "print(y_train[0:100])"
   ]
  },
  {
   "cell_type": "markdown",
   "metadata": {
    "id": "40hk3UKewEZe"
   },
   "source": [
    "### Exercise: Train the label propagation model with `gamma = 0.25` and `max_iter = 20`\n",
    "\n",
    "### Make sure you pass in the correct version of the target array, i.e. the one containing unlabeled data"
   ]
  },
  {
   "cell_type": "code",
   "execution_count": 37,
   "metadata": {
    "id": "8wHcs3qkgJyW"
   },
   "outputs": [
    {
     "data": {
      "text/plain": [
       "LabelSpreading(gamma=0.25, max_iter=20)"
      ]
     },
     "execution_count": 37,
     "metadata": {},
     "output_type": "execute_result"
    }
   ],
   "source": [
    "### START CODE HERE ###\n",
    "# Initialize the model\n",
    "lp_model = LabelSpreading(gamma=0.25, max_iter=20)\n",
    "# Train the model\n",
    "lp_model.fit(X, y_train)\n",
    "### END CODE HERE ###"
   ]
  },
  {
   "cell_type": "markdown",
   "metadata": {
    "id": "LTBwLj2Gy8qM"
   },
   "source": [
    "### Exercise: Evaluate the model's performance on the unlabeled data"
   ]
  },
  {
   "cell_type": "code",
   "execution_count": 38,
   "metadata": {
    "id": "CjFO-PxjgJya"
   },
   "outputs": [
    {
     "name": "stdout",
     "output_type": "stream",
     "text": [
      "Label Spreading model: 50 labeled & 950 unlabeled points (1000 total)\n",
      "              precision    recall  f1-score   support\n",
      "\n",
      "           0       1.00      1.00      1.00        98\n",
      "           1       0.85      0.90      0.88        93\n",
      "           2       0.99      0.78      0.87        91\n",
      "           3       0.92      0.90      0.91       108\n",
      "           4       0.97      1.00      0.98        88\n",
      "           5       0.97      0.93      0.95       102\n",
      "           6       0.97      1.00      0.99       100\n",
      "           7       0.98      0.91      0.94        91\n",
      "           8       0.86      0.82      0.84        87\n",
      "           9       0.77      0.97      0.86        92\n",
      "\n",
      "    accuracy                           0.92       950\n",
      "   macro avg       0.93      0.92      0.92       950\n",
      "weighted avg       0.93      0.92      0.92       950\n",
      "\n",
      "Confusion matrix\n",
      "[[ 98   0   0   0   0   0   0   0   0   0]\n",
      " [  0  84   0   0   1   1   0   0   3   4]\n",
      " [  0  12  71   0   0   0   0   1   7   0]\n",
      " [  0   0   0  97   0   0   0   1   0  10]\n",
      " [  0   0   0   0  88   0   0   0   0   0]\n",
      " [  0   0   0   0   0  95   0   0   0   7]\n",
      " [  0   0   0   0   0   0 100   0   0   0]\n",
      " [  0   0   0   0   0   2   0  83   0   6]\n",
      " [  0   3   1   8   1   0   3   0  71   0]\n",
      " [  0   0   0   0   1   0   0   0   2  89]]\n"
     ]
    }
   ],
   "source": [
    "### START CODE HERE ###\n",
    "# Extract the label predictions for the unlabeled data\n",
    "predicted_labels = lp_model.transduction_[n_labeled_points:]\n",
    "# Extract the true labels of the unlabeled data\n",
    "true_labels = y[n_labeled_points:]\n",
    "# Compute the confusion matrix between the true and predicted labels of the unlabeled data\n",
    "cm = confusion_matrix(true_labels, predicted_labels)\n",
    "### END CODE HERE ###\n",
    "print(\"Label Spreading model: %d labeled & %d unlabeled points (%d total)\" %\n",
    "      (n_labeled_points, n_total_samples - n_labeled_points, n_total_samples))\n",
    "\n",
    "print(classification_report(true_labels, predicted_labels))\n",
    "\n",
    "print(\"Confusion matrix\")\n",
    "print(cm)"
   ]
  },
  {
   "cell_type": "markdown",
   "metadata": {
    "id": "Hwlk3ptY1YrL"
   },
   "source": [
    "### Exercise: Find the 10 most uncertain labels in descending order of uncertainty, i.e. the labels for which the model made the least confident predictions. Plot the associated images. Observe any discrepancies between predicted and true labels. Do you see any patterns? What might account for them? "
   ]
  },
  {
   "cell_type": "code",
   "execution_count": 45,
   "metadata": {
    "id": "2ajvW97mgJyf"
   },
   "outputs": [
    {
     "name": "stdout",
     "output_type": "stream",
     "text": [
      "[473 809 740 626 873  54 143 155 375 357]\n",
      "[0.65003081 0.48779136 0.48764622 0.48700257 0.48512273 0.33596083\n",
      " 0.23396067 0.16388711 0.13355769 0.08852858]\n"
     ]
    },
    {
     "data": {
      "image/png": "[encoded data removed]",
      "text/plain": [
       "<Figure size 504x360 with 10 Axes>"
      ]
     },
     "metadata": {},
     "output_type": "display_data"
    }
   ],
   "source": [
    "### START CODE HERE ###\n",
    "# Calculate uncertainty values for each transduced distribution\n",
    "# You may scipy stats' entropy() function useful.\n",
    "pred_entropies = np.array([stats.entropy(sample_dist) for sample_dist in lp_model.label_distributions_])\n",
    "\n",
    "# Pick the top 10 most uncertain labels, in descending order of uncertainty\n",
    "uncertainty_index = np.argsort(pred_entropies)[::-1][:10]\n",
    "print(uncertainty_index)\n",
    "print(pred_entropies[uncertainty_index])\n",
    "### END CODE HERE ###\n",
    "\n",
    "# Plot\n",
    "f = plt.figure(figsize=(7, 5))\n",
    "for index, image_index in enumerate(uncertainty_index):\n",
    "    image = images[image_index]\n",
    "\n",
    "    sub = f.add_subplot(2, 5, index + 1)\n",
    "    sub.imshow(image, cmap=plt.cm.gray_r)\n",
    "    plt.xticks([])\n",
    "    plt.yticks([])\n",
    "    sub.set_title('predict: %i\\ntrue: %i' % (\n",
    "        lp_model.transduction_[image_index], y[image_index]))\n",
    "\n",
    "f.suptitle('Learning with small amount of labeled data')\n",
    "plt.show()"
   ]
  },
  {
   "cell_type": "markdown",
   "metadata": {},
   "source": [
    "## Analysis\n",
    "The model is least certain about the distinction between 3 and 9. Occasionally, it is also uncertain about 1 and 8, as well as 2 and 7. These uncertainties make sense; each of those pairs of numbers looks similar when the digits are drawn especially curly, fat, or truncated."
   ]
  },
  {
   "cell_type": "markdown",
   "metadata": {
    "id": "xD119mlU69jb"
   },
   "source": [
    "### Exercise: Repeat the experiment with 10, 100, and 250 labeled images. How do the differing numbers of labeled samples affect the model's performance? Which number detections yield the most errors?\n",
    "\n"
   ]
  },
  {
   "cell_type": "code",
   "execution_count": 62,
   "metadata": {
    "id": "ziIXBKO298DX"
   },
   "outputs": [],
   "source": [
    "def run_experiment(n_total_samples, n_labeled_points):\n",
    "    \"\"\"Runs the experiment with the given number of points labeled.\n",
    "    :param n_total_samples: the total number of points to use.\n",
    "    :param n_labeled_points: the number of points to label.\n",
    "    \"\"\"\n",
    "    digits = datasets.load_digits()\n",
    "    # Set the random state to 2 for reproducibility\n",
    "    rng = np.random.RandomState(2)\n",
    "    # Initialize the indices as an ordered array, with each element corresponding to a sample in the dataset\n",
    "    indices = np.arange(digits['data'].shape[0])\n",
    "    # Shuffle the indices\n",
    "    rng.shuffle(indices)\n",
    "    # Features\n",
    "    X = digits['data'][indices[:n_total_samples]]\n",
    "    # Labels\n",
    "    y = digits['target'][indices[:n_total_samples]]\n",
    "    # Images\n",
    "    images = digits['images'][indices[:n_total_samples]]\n",
    "    # Copy the labels\n",
    "    y_train = np.concatenate((y[:n_labeled_points], np.full((n_total_samples - n_labeled_points,), -1)), axis=0)\n",
    "    print(X.shape)\n",
    "    print(y_train[:100])\n",
    "    # Initialize the model\n",
    "    lp_model = LabelSpreading(gamma=0.25, max_iter=20)\n",
    "    # Train the model\n",
    "    lp_model.fit(X, y_train)\n",
    "    # Extract the label predictions for the unlabeled data\n",
    "    predicted_labels = lp_model.transduction_[n_labeled_points:]\n",
    "    # Extract the true labels of the unlabeled data\n",
    "    true_labels = y[n_labeled_points:]\n",
    "    # Compute the confusion matrix between the true and predicted labels of the unlabeled data\n",
    "    cm = confusion_matrix(true_labels, predicted_labels)\n",
    "    print(\"Label Spreading model: %d labeled & %d unlabeled points (%d total)\" %\n",
    "          (n_labeled_points, n_total_samples - n_labeled_points, n_total_samples))\n",
    "    print(classification_report(true_labels, predicted_labels))\n",
    "    print(\"Confusion matrix\")\n",
    "    print(cm)\n",
    "    # Calculate uncertainty values for each transduced distribution\n",
    "    # You may scipy stats' entropy() function useful.\n",
    "    pred_entropies = np.array([stats.entropy(sample_dist) for sample_dist in lp_model.label_distributions_])\n",
    "    # Pick the top 10 most uncertain labels, in descending order of uncertainty\n",
    "    uncertainty_index = np.argsort(pred_entropies)[::-1][:10]\n",
    "    print(uncertainty_index)\n",
    "    print(pred_entropies[uncertainty_index])\n",
    "    # Plot\n",
    "    f = plt.figure(figsize=(7, 5))\n",
    "    for index, image_index in enumerate(uncertainty_index):\n",
    "        image = images[image_index]\n",
    "        sub = f.add_subplot(2, 5, index + 1)\n",
    "        sub.imshow(image, cmap=plt.cm.gray_r)\n",
    "        plt.xticks([])\n",
    "        plt.yticks([])\n",
    "        sub.set_title('predict: %i\\ntrue: %i' % (\n",
    "            lp_model.transduction_[image_index], y[image_index]))\n",
    "    f.suptitle('Learning with small amount of labeled data')\n",
    "    plt.show()\n",
    "    "
   ]
  },
  {
   "cell_type": "code",
   "execution_count": 63,
   "metadata": {},
   "outputs": [
    {
     "name": "stdout",
     "output_type": "stream",
     "text": [
      "(1000, 64)\n",
      "[ 4  0  9  1  4  7  1  5  1  6 -1 -1 -1 -1 -1 -1 -1 -1 -1 -1 -1 -1 -1 -1\n",
      " -1 -1 -1 -1 -1 -1 -1 -1 -1 -1 -1 -1 -1 -1 -1 -1 -1 -1 -1 -1 -1 -1 -1 -1\n",
      " -1 -1 -1 -1 -1 -1 -1 -1 -1 -1 -1 -1 -1 -1 -1 -1 -1 -1 -1 -1 -1 -1 -1 -1\n",
      " -1 -1 -1 -1 -1 -1 -1 -1 -1 -1 -1 -1 -1 -1 -1 -1 -1 -1 -1 -1 -1 -1 -1 -1\n",
      " -1 -1 -1 -1]\n",
      "Label Spreading model: 10 labeled & 990 unlabeled points (1000 total)\n",
      "              precision    recall  f1-score   support\n",
      "\n",
      "           0       1.00      1.00      1.00        99\n",
      "           1       0.40      0.93      0.56        96\n",
      "           2       0.00      0.00      0.00        93\n",
      "           3       0.00      0.00      0.00       110\n",
      "           4       0.76      0.97      0.85        94\n",
      "           5       0.92      0.94      0.93       108\n",
      "           6       0.95      0.99      0.97       109\n",
      "           7       0.91      0.99      0.95        94\n",
      "           8       0.00      0.00      0.00        90\n",
      "           9       0.34      0.77      0.47        97\n",
      "\n",
      "    accuracy                           0.66       990\n",
      "   macro avg       0.53      0.66      0.57       990\n",
      "weighted avg       0.53      0.66      0.58       990\n",
      "\n",
      "Confusion matrix\n",
      "[[ 99   0   0   0   0   0   0   0   0   0]\n",
      " [  0  89   0   0   1   0   5   0   0   1]\n",
      " [  0  80   0   0   1   0   1   3   0   8]\n",
      " [  0   5   0   0   3   2   0   2   0  98]\n",
      " [  0   0   0   0  91   0   0   3   0   0]\n",
      " [  0   0   0   0   2 101   0   0   0   5]\n",
      " [  0   0   0   0   0   1 108   0   0   0]\n",
      " [  0   0   0   0   1   0   0  93   0   0]\n",
      " [  0  42   0   0  11   3   0   0   0  34]\n",
      " [  0   8   0   0  10   3   0   1   0  75]]\n",
      "[135 198  49 122 940 278 404 354 567 755]\n",
      "[0.98912663 0.61363535 0.5688621  0.56530303 0.39709767 0.31485529\n",
      " 0.30024081 0.26767771 0.25152374 0.24541798]\n"
     ]
    },
    {
     "name": "stderr",
     "output_type": "stream",
     "text": [
      "/Users/leo/anaconda3/lib/python3.6/site-packages/sklearn/metrics/_classification.py:1221: UndefinedMetricWarning: Precision and F-score are ill-defined and being set to 0.0 in labels with no predicted samples. Use `zero_division` parameter to control this behavior.\n",
      "  _warn_prf(average, modifier, msg_start, len(result))\n"
     ]
    },
    {
     "data": {
      "image/png": "[encoded data removed]",
      "text/plain": [
       "<Figure size 504x360 with 10 Axes>"
      ]
     },
     "metadata": {},
     "output_type": "display_data"
    }
   ],
   "source": [
    "run_experiment(1000, 10)"
   ]
  },
  {
   "cell_type": "markdown",
   "metadata": {},
   "source": [
    "## Analysis\n",
    "Based on the confusion matrix, the model classified most of the 2 samples as 1, most of the 3 samples as 9, and many of the 8 samples as 1. The model never predicted 2, 3, or 8 because none of those samples were in the labeled data. This particular semi-supervised algorithm cannot predict a class that was never seen in the labeled data. However, it also correctly classifies every single 0 sample, even though there was only one example of a 0 in the labeled data."
   ]
  },
  {
   "cell_type": "code",
   "execution_count": 64,
   "metadata": {},
   "outputs": [
    {
     "name": "stdout",
     "output_type": "stream",
     "text": [
      "(1000, 64)\n",
      "[4 0 9 1 4 7 1 5 1 6 6 7 6 1 5 5 4 6 2 7 4 6 4 1 5 2 9 5 4 6 5 6 3 4 0 9 9\n",
      " 8 4 6 8 8 5 7 9 6 9 6 1 3 0 1 9 7 3 3 1 1 8 8 9 8 5 4 4 7 3 5 8 4 3 1 3 8\n",
      " 7 3 3 0 8 7 2 8 5 3 8 7 6 4 6 2 2 0 1 1 5 3 5 7 6 8]\n",
      "Label Spreading model: 100 labeled & 900 unlabeled points (1000 total)\n",
      "              precision    recall  f1-score   support\n",
      "\n",
      "           0       1.00      1.00      1.00        95\n",
      "           1       0.92      0.99      0.96        87\n",
      "           2       1.00      0.90      0.95        88\n",
      "           3       0.93      0.96      0.95        99\n",
      "           4       0.98      1.00      0.99        84\n",
      "           5       0.97      0.93      0.95        97\n",
      "           6       1.00      1.00      1.00        97\n",
      "           7       1.00      0.91      0.95        85\n",
      "           8       0.96      0.92      0.94        78\n",
      "           9       0.83      0.96      0.89        90\n",
      "\n",
      "    accuracy                           0.96       900\n",
      "   macro avg       0.96      0.96      0.96       900\n",
      "weighted avg       0.96      0.96      0.96       900\n",
      "\n",
      "Confusion matrix\n",
      "[[95  0  0  0  0  0  0  0  0  0]\n",
      " [ 0 86  0  0  0  1  0  0  0  0]\n",
      " [ 0  4 79  3  0  0  0  0  2  0]\n",
      " [ 0  0  0 95  0  0  0  0  0  4]\n",
      " [ 0  0  0  0 84  0  0  0  0  0]\n",
      " [ 0  0  0  0  0 90  0  0  0  7]\n",
      " [ 0  0  0  0  0  0 97  0  0  0]\n",
      " [ 0  0  0  0  0  2  0 77  0  6]\n",
      " [ 0  3  0  2  1  0  0  0 72  0]\n",
      " [ 0  0  0  2  1  0  0  0  1 86]]\n",
      "[246 740 774 340 500 393 599 927 557 369]\n",
      "[0.5768771  0.48764576 0.47762127 0.38983418 0.33136513 0.27757934\n",
      " 0.09625766 0.05995981 0.0548027  0.03803882]\n"
     ]
    },
    {
     "data": {
      "image/png": "[encoded data removed]",
      "text/plain": [
       "<Figure size 504x360 with 10 Axes>"
      ]
     },
     "metadata": {},
     "output_type": "display_data"
    }
   ],
   "source": [
    "run_experiment(1000, 100)"
   ]
  },
  {
   "cell_type": "markdown",
   "metadata": {},
   "source": [
    "## Analysis\n",
    "With 100 labeled examples, accuracy is far higher and uncertainty is lower. Precision for label 9 is low because the model predicts label 9 frequently for 3, 5, and 7."
   ]
  },
  {
   "cell_type": "code",
   "execution_count": 65,
   "metadata": {},
   "outputs": [
    {
     "name": "stdout",
     "output_type": "stream",
     "text": [
      "(1000, 64)\n",
      "[4 0 9 1 4 7 1 5 1 6 6 7 6 1 5 5 4 6 2 7 4 6 4 1 5 2 9 5 4 6 5 6 3 4 0 9 9\n",
      " 8 4 6 8 8 5 7 9 6 9 6 1 3 0 1 9 7 3 3 1 1 8 8 9 8 5 4 4 7 3 5 8 4 3 1 3 8\n",
      " 7 3 3 0 8 7 2 8 5 3 8 7 6 4 6 2 2 0 1 1 5 3 5 7 6 8]\n",
      "Label Spreading model: 250 labeled & 750 unlabeled points (1000 total)\n",
      "              precision    recall  f1-score   support\n",
      "\n",
      "           0       1.00      1.00      1.00        81\n",
      "           1       0.93      0.97      0.95        70\n",
      "           2       1.00      0.90      0.95        70\n",
      "           3       0.91      0.99      0.95        80\n",
      "           4       1.00      1.00      1.00        73\n",
      "           5       0.99      0.93      0.96        81\n",
      "           6       1.00      1.00      1.00        86\n",
      "           7       1.00      0.99      0.99        67\n",
      "           8       0.94      0.89      0.91        66\n",
      "           9       0.89      0.96      0.92        76\n",
      "\n",
      "    accuracy                           0.96       750\n",
      "   macro avg       0.97      0.96      0.96       750\n",
      "weighted avg       0.97      0.96      0.96       750\n",
      "\n",
      "Confusion matrix\n",
      "[[81  0  0  0  0  0  0  0  0  0]\n",
      " [ 0 68  0  0  0  1  0  0  1  0]\n",
      " [ 0  4 63  1  0  0  0  0  2  0]\n",
      " [ 0  0  0 79  0  0  0  0  0  1]\n",
      " [ 0  0  0  0 73  0  0  0  0  0]\n",
      " [ 0  0  0  0  0 75  0  0  0  6]\n",
      " [ 0  0  0  0  0  0 86  0  0  0]\n",
      " [ 0  0  0  0  0  0  0 66  0  1]\n",
      " [ 0  1  0  5  0  0  0  0 59  1]\n",
      " [ 0  0  0  2  0  0  0  0  1 73]]\n",
      "[791 529 401 617 557 369 927 576 905 407]\n",
      "[0.64389886 0.57438552 0.5724747  0.07257473 0.05150872 0.03848822\n",
      " 0.00929689 0.00709302 0.00251512 0.00251484]\n"
     ]
    },
    {
     "data": {
      "image/png": "[encoded data removed]",
      "text/plain": [
       "<Figure size 504x360 with 10 Axes>"
      ]
     },
     "metadata": {},
     "output_type": "display_data"
    }
   ],
   "source": [
    "run_experiment(1000, 250)"
   ]
  },
  {
   "cell_type": "markdown",
   "metadata": {},
   "source": [
    "## Analysis\n",
    "With 250 labeled examples, the performance is even better, although the model still mistakes 5 for 9 frequently."
   ]
  },
  {
   "cell_type": "markdown",
   "metadata": {},
   "source": [
    "# Conclusion\n",
    "Even with a small fraction of labeled data, semi-supervised algorithms can create effective classifiers. More labeled samples yield a better model, although a model can be surprisingly effective with only a single example from a given class."
   ]
  },
  {
   "cell_type": "code",
   "execution_count": null,
   "metadata": {},
   "outputs": [],
   "source": []
  }
 ],
 "metadata": {
  "colab": {
   "collapsed_sections": [],
   "name": "4.1_Label_Propagation.ipynb",
   "provenance": [
    {
     "file_id": "1wR4Sk33vvBwuPkDoYo8VlGMChED39t0t",
     "timestamp": 1604606505111
    }
   ]
  },
  "kernelspec": {
   "display_name": "Python 3",
   "language": "python",
   "name": "python3"
  },
  "language_info": {
   "codemirror_mode": {
    "name": "ipython",
    "version": 3
   },
   "file_extension": ".py",
   "mimetype": "text/x-python",
   "name": "python",
   "nbconvert_exporter": "python",
   "pygments_lexer": "ipython3",
   "version": "3.6.12"
  }
 },
 "nbformat": 4,
 "nbformat_minor": 1
}
