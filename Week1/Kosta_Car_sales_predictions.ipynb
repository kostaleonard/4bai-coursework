{
 "cells": [
  {
   "cell_type": "markdown",
   "metadata": {
    "id": "lNnTTMT9dnM4"
   },
   "source": [
    "# Today you are a Data Scientist at Tesla! \n",
    "## You have assigned a new project to look at car sales from Quarters 1-2 in California for 2019 to make predictions as to which cars will be sold more than the others in Q3 and Q4, to ensure enough inventory to meet demands!"
   ]
  },
  {
   "cell_type": "markdown",
   "metadata": {
    "id": "AQqh5DMaq9QW"
   },
   "source": [
    "### If running this notebook in Google Colab, run the following cells first. Make sure you've placed the Q12 and Q34 sales data in the same Google Drive folder as this notebook."
   ]
  },
  {
   "cell_type": "code",
   "execution_count": null,
   "metadata": {
    "id": "8n75mujnrqU4"
   },
   "outputs": [],
   "source": [
    "!pip install -U -q PyDrive\n",
    "from pydrive.auth import GoogleAuth\n",
    "from pydrive.drive import GoogleDrive\n",
    "from google.colab import auth\n",
    "from oauth2client.client import GoogleCredentials"
   ]
  },
  {
   "cell_type": "code",
   "execution_count": null,
   "metadata": {
    "id": "HT1yuyN5zJ19"
   },
   "outputs": [],
   "source": [
    "auth.authenticate_user()\n",
    "gauth = GoogleAuth()\n",
    "gauth.credentials = GoogleCredentials.get_application_default()\n",
    "drive = GoogleDrive(gauth)"
   ]
  },
  {
   "cell_type": "markdown",
   "metadata": {
    "id": "q6AR4c7ivMtD"
   },
   "source": [
    "Replace the ID with ID of file you want to access. To get this ID: \n",
    "\n",
    "1.   Right-click on the name of the appropriate file in your Google Drive\n",
    "2.   Click \"Get link\"\n",
    "3.   Copy the characters between `d/` and the following slash\n",
    "4.   Paste them into the dictionary argument of the call to `drive.CreateFile()` as the value associated with the 'id' key. Make sure that this value is a string.\n",
    "\n"
   ]
  },
  {
   "cell_type": "code",
   "execution_count": null,
   "metadata": {
    "id": "mb5xkL1QzPYg"
   },
   "outputs": [],
   "source": [
    "# Replace the ID with ID of file you want to access\n",
    "Q12 = drive.CreateFile({'id':'1vpppIqAvvH8O44XEUEYlEk96clxbQEG7'}) \n",
    "Q12.GetContentFile('sales_Q12_2019.csv') \n",
    "Q34 = drive.CreateFile({'id':'1He76yUv5030l_qhugdhSOf3OjUEbrElI'}) \n",
    "Q34.GetContentFile('sales_Q34_2019.csv') "
   ]
  },
  {
   "cell_type": "markdown",
   "metadata": {
    "id": "OI6NP0JBdnM5"
   },
   "source": [
    "### Import the necessary modules"
   ]
  },
  {
   "cell_type": "code",
   "execution_count": 1,
   "metadata": {
    "id": "WdNx3CHEdnM5"
   },
   "outputs": [
    {
     "name": "stderr",
     "output_type": "stream",
     "text": [
      "In /Users/leo/anaconda3/lib/python3.6/site-packages/matplotlib/mpl-data/stylelib/_classic_test.mplstyle: \n",
      "The savefig.frameon rcparam was deprecated in Matplotlib 3.1 and will be removed in 3.3.\n",
      "In /Users/leo/anaconda3/lib/python3.6/site-packages/matplotlib/mpl-data/stylelib/_classic_test.mplstyle: \n",
      "The verbose.level rcparam was deprecated in Matplotlib 3.1 and will be removed in 3.3.\n",
      "In /Users/leo/anaconda3/lib/python3.6/site-packages/matplotlib/mpl-data/stylelib/_classic_test.mplstyle: \n",
      "The verbose.fileo rcparam was deprecated in Matplotlib 3.1 and will be removed in 3.3.\n"
     ]
    }
   ],
   "source": [
    "import os\n",
    "import tensorflow as tf\n",
    "from tensorboard.plugins import projector\n",
    "import numpy as np\n",
    "import pandas as pd\n",
    "import matplotlib.pyplot as plt"
   ]
  },
  {
   "cell_type": "markdown",
   "metadata": {
    "id": "dM4fGT-ldnM8"
   },
   "source": [
    "### Read in the CSV file containing the California sales data for Quarters 1 and 2\n",
    "\n",
    "Then examine the data's shape and first few rows"
   ]
  },
  {
   "cell_type": "code",
   "execution_count": 3,
   "metadata": {
    "id": "jj2l01M8dnM9"
   },
   "outputs": [
    {
     "name": "stdout",
     "output_type": "stream",
     "text": [
      "(5837, 76)\n"
     ]
    },
    {
     "data": {
      "text/html": [
       "<div>\n",
       "<style scoped>\n",
       "    .dataframe tbody tr th:only-of-type {\n",
       "        vertical-align: middle;\n",
       "    }\n",
       "\n",
       "    .dataframe tbody tr th {\n",
       "        vertical-align: top;\n",
       "    }\n",
       "\n",
       "    .dataframe thead th {\n",
       "        text-align: right;\n",
       "    }\n",
       "</style>\n",
       "<table border=\"1\" class=\"dataframe\">\n",
       "  <thead>\n",
       "    <tr style=\"text-align: right;\">\n",
       "      <th></th>\n",
       "      <th>main_S60_1</th>\n",
       "      <th>main_S60_2</th>\n",
       "      <th>main_type_SP100D</th>\n",
       "      <th>main_type_S60D_1</th>\n",
       "      <th>main_type_S60D_2</th>\n",
       "      <th>main_type_S70</th>\n",
       "      <th>main_type_S70D</th>\n",
       "      <th>main_type_S75</th>\n",
       "      <th>main_type_S75D</th>\n",
       "      <th>main_type_S80</th>\n",
       "      <th>...</th>\n",
       "      <th>sales_24</th>\n",
       "      <th>sales_25</th>\n",
       "      <th>sales_26</th>\n",
       "      <th>sales_27</th>\n",
       "      <th>sales_28</th>\n",
       "      <th>sales_29</th>\n",
       "      <th>sales_30</th>\n",
       "      <th>MSRP</th>\n",
       "      <th>dealer_state</th>\n",
       "      <th>date</th>\n",
       "    </tr>\n",
       "  </thead>\n",
       "  <tbody>\n",
       "    <tr>\n",
       "      <th>0</th>\n",
       "      <td>0</td>\n",
       "      <td>0</td>\n",
       "      <td>0</td>\n",
       "      <td>0</td>\n",
       "      <td>0</td>\n",
       "      <td>1</td>\n",
       "      <td>0</td>\n",
       "      <td>0</td>\n",
       "      <td>0</td>\n",
       "      <td>0</td>\n",
       "      <td>...</td>\n",
       "      <td>0</td>\n",
       "      <td>0</td>\n",
       "      <td>0</td>\n",
       "      <td>0</td>\n",
       "      <td>0</td>\n",
       "      <td>0</td>\n",
       "      <td>0</td>\n",
       "      <td>44610</td>\n",
       "      <td>California</td>\n",
       "      <td>2019-04-28</td>\n",
       "    </tr>\n",
       "    <tr>\n",
       "      <th>1</th>\n",
       "      <td>0</td>\n",
       "      <td>0</td>\n",
       "      <td>0</td>\n",
       "      <td>0</td>\n",
       "      <td>0</td>\n",
       "      <td>0</td>\n",
       "      <td>0</td>\n",
       "      <td>0</td>\n",
       "      <td>0</td>\n",
       "      <td>0</td>\n",
       "      <td>...</td>\n",
       "      <td>0</td>\n",
       "      <td>0</td>\n",
       "      <td>0</td>\n",
       "      <td>0</td>\n",
       "      <td>0</td>\n",
       "      <td>0</td>\n",
       "      <td>0</td>\n",
       "      <td>41505</td>\n",
       "      <td>California</td>\n",
       "      <td>2019-03-14</td>\n",
       "    </tr>\n",
       "    <tr>\n",
       "      <th>2</th>\n",
       "      <td>0</td>\n",
       "      <td>0</td>\n",
       "      <td>0</td>\n",
       "      <td>0</td>\n",
       "      <td>0</td>\n",
       "      <td>0</td>\n",
       "      <td>0</td>\n",
       "      <td>0</td>\n",
       "      <td>0</td>\n",
       "      <td>0</td>\n",
       "      <td>...</td>\n",
       "      <td>0</td>\n",
       "      <td>0</td>\n",
       "      <td>0</td>\n",
       "      <td>0</td>\n",
       "      <td>0</td>\n",
       "      <td>0</td>\n",
       "      <td>0</td>\n",
       "      <td>58890</td>\n",
       "      <td>California</td>\n",
       "      <td>2019-06-12</td>\n",
       "    </tr>\n",
       "    <tr>\n",
       "      <th>3</th>\n",
       "      <td>0</td>\n",
       "      <td>0</td>\n",
       "      <td>0</td>\n",
       "      <td>0</td>\n",
       "      <td>0</td>\n",
       "      <td>0</td>\n",
       "      <td>0</td>\n",
       "      <td>0</td>\n",
       "      <td>0</td>\n",
       "      <td>0</td>\n",
       "      <td>...</td>\n",
       "      <td>0</td>\n",
       "      <td>0</td>\n",
       "      <td>0</td>\n",
       "      <td>0</td>\n",
       "      <td>0</td>\n",
       "      <td>0</td>\n",
       "      <td>0</td>\n",
       "      <td>51055</td>\n",
       "      <td>California</td>\n",
       "      <td>2019-03-04</td>\n",
       "    </tr>\n",
       "    <tr>\n",
       "      <th>4</th>\n",
       "      <td>0</td>\n",
       "      <td>0</td>\n",
       "      <td>0</td>\n",
       "      <td>0</td>\n",
       "      <td>0</td>\n",
       "      <td>0</td>\n",
       "      <td>0</td>\n",
       "      <td>0</td>\n",
       "      <td>0</td>\n",
       "      <td>0</td>\n",
       "      <td>...</td>\n",
       "      <td>0</td>\n",
       "      <td>0</td>\n",
       "      <td>0</td>\n",
       "      <td>0</td>\n",
       "      <td>0</td>\n",
       "      <td>0</td>\n",
       "      <td>0</td>\n",
       "      <td>70830</td>\n",
       "      <td>California</td>\n",
       "      <td>2019-01-23</td>\n",
       "    </tr>\n",
       "  </tbody>\n",
       "</table>\n",
       "<p>5 rows × 76 columns</p>\n",
       "</div>"
      ],
      "text/plain": [
       "   main_S60_1  main_S60_2  main_type_SP100D  main_type_S60D_1  \\\n",
       "0           0           0                 0                 0   \n",
       "1           0           0                 0                 0   \n",
       "2           0           0                 0                 0   \n",
       "3           0           0                 0                 0   \n",
       "4           0           0                 0                 0   \n",
       "\n",
       "   main_type_S60D_2  main_type_S70  main_type_S70D  main_type_S75  \\\n",
       "0                 0              1               0              0   \n",
       "1                 0              0               0              0   \n",
       "2                 0              0               0              0   \n",
       "3                 0              0               0              0   \n",
       "4                 0              0               0              0   \n",
       "\n",
       "   main_type_S75D  main_type_S80  ...  sales_24  sales_25  sales_26  sales_27  \\\n",
       "0               0              0  ...         0         0         0         0   \n",
       "1               0              0  ...         0         0         0         0   \n",
       "2               0              0  ...         0         0         0         0   \n",
       "3               0              0  ...         0         0         0         0   \n",
       "4               0              0  ...         0         0         0         0   \n",
       "\n",
       "   sales_28  sales_29  sales_30   MSRP  dealer_state        date  \n",
       "0         0         0         0  44610    California  2019-04-28  \n",
       "1         0         0         0  41505    California  2019-03-14  \n",
       "2         0         0         0  58890    California  2019-06-12  \n",
       "3         0         0         0  51055    California  2019-03-04  \n",
       "4         0         0         0  70830    California  2019-01-23  \n",
       "\n",
       "[5 rows x 76 columns]"
      ]
     },
     "execution_count": 3,
     "metadata": {},
     "output_type": "execute_result"
    }
   ],
   "source": [
    "df_sales = pd.read_csv(\"sales_Q12_2019.csv\")\n",
    "print(df_sales.shape)\n",
    "df_sales.head()"
   ]
  },
  {
   "cell_type": "markdown",
   "metadata": {
    "id": "dF7w0UQndnM_"
   },
   "source": [
    "### Begin cleaning the data\n",
    "\n",
    "Eliminate the `'dealer_state'` and `'date'` columns. The former is useless to our model, since we already know that our dataset is restricted to California sales. While we could possibly extract useful information from the `'date'` column (for example, to determine whether more cars are sold on weekends than weekdays), we'll be focusing on car configurations in this exercise."
   ]
  },
  {
   "cell_type": "code",
   "execution_count": 4,
   "metadata": {
    "id": "i-DThsrHdnNA"
   },
   "outputs": [
    {
     "data": {
      "text/html": [
       "<div>\n",
       "<style scoped>\n",
       "    .dataframe tbody tr th:only-of-type {\n",
       "        vertical-align: middle;\n",
       "    }\n",
       "\n",
       "    .dataframe tbody tr th {\n",
       "        vertical-align: top;\n",
       "    }\n",
       "\n",
       "    .dataframe thead th {\n",
       "        text-align: right;\n",
       "    }\n",
       "</style>\n",
       "<table border=\"1\" class=\"dataframe\">\n",
       "  <thead>\n",
       "    <tr style=\"text-align: right;\">\n",
       "      <th></th>\n",
       "      <th>main_S60_1</th>\n",
       "      <th>main_S60_2</th>\n",
       "      <th>main_type_SP100D</th>\n",
       "      <th>main_type_S60D_1</th>\n",
       "      <th>main_type_S60D_2</th>\n",
       "      <th>main_type_S70</th>\n",
       "      <th>main_type_S70D</th>\n",
       "      <th>main_type_S75</th>\n",
       "      <th>main_type_S75D</th>\n",
       "      <th>main_type_S80</th>\n",
       "      <th>...</th>\n",
       "      <th>sales_22</th>\n",
       "      <th>sales_23</th>\n",
       "      <th>sales_24</th>\n",
       "      <th>sales_25</th>\n",
       "      <th>sales_26</th>\n",
       "      <th>sales_27</th>\n",
       "      <th>sales_28</th>\n",
       "      <th>sales_29</th>\n",
       "      <th>sales_30</th>\n",
       "      <th>MSRP</th>\n",
       "    </tr>\n",
       "  </thead>\n",
       "  <tbody>\n",
       "    <tr>\n",
       "      <th>0</th>\n",
       "      <td>0</td>\n",
       "      <td>0</td>\n",
       "      <td>0</td>\n",
       "      <td>0</td>\n",
       "      <td>0</td>\n",
       "      <td>1</td>\n",
       "      <td>0</td>\n",
       "      <td>0</td>\n",
       "      <td>0</td>\n",
       "      <td>0</td>\n",
       "      <td>...</td>\n",
       "      <td>0</td>\n",
       "      <td>0</td>\n",
       "      <td>0</td>\n",
       "      <td>0</td>\n",
       "      <td>0</td>\n",
       "      <td>0</td>\n",
       "      <td>0</td>\n",
       "      <td>0</td>\n",
       "      <td>0</td>\n",
       "      <td>44610</td>\n",
       "    </tr>\n",
       "    <tr>\n",
       "      <th>1</th>\n",
       "      <td>0</td>\n",
       "      <td>0</td>\n",
       "      <td>0</td>\n",
       "      <td>0</td>\n",
       "      <td>0</td>\n",
       "      <td>0</td>\n",
       "      <td>0</td>\n",
       "      <td>0</td>\n",
       "      <td>0</td>\n",
       "      <td>0</td>\n",
       "      <td>...</td>\n",
       "      <td>0</td>\n",
       "      <td>0</td>\n",
       "      <td>0</td>\n",
       "      <td>0</td>\n",
       "      <td>0</td>\n",
       "      <td>0</td>\n",
       "      <td>0</td>\n",
       "      <td>0</td>\n",
       "      <td>0</td>\n",
       "      <td>41505</td>\n",
       "    </tr>\n",
       "    <tr>\n",
       "      <th>2</th>\n",
       "      <td>0</td>\n",
       "      <td>0</td>\n",
       "      <td>0</td>\n",
       "      <td>0</td>\n",
       "      <td>0</td>\n",
       "      <td>0</td>\n",
       "      <td>0</td>\n",
       "      <td>0</td>\n",
       "      <td>0</td>\n",
       "      <td>0</td>\n",
       "      <td>...</td>\n",
       "      <td>0</td>\n",
       "      <td>0</td>\n",
       "      <td>0</td>\n",
       "      <td>0</td>\n",
       "      <td>0</td>\n",
       "      <td>0</td>\n",
       "      <td>0</td>\n",
       "      <td>0</td>\n",
       "      <td>0</td>\n",
       "      <td>58890</td>\n",
       "    </tr>\n",
       "    <tr>\n",
       "      <th>3</th>\n",
       "      <td>0</td>\n",
       "      <td>0</td>\n",
       "      <td>0</td>\n",
       "      <td>0</td>\n",
       "      <td>0</td>\n",
       "      <td>0</td>\n",
       "      <td>0</td>\n",
       "      <td>0</td>\n",
       "      <td>0</td>\n",
       "      <td>0</td>\n",
       "      <td>...</td>\n",
       "      <td>0</td>\n",
       "      <td>0</td>\n",
       "      <td>0</td>\n",
       "      <td>0</td>\n",
       "      <td>0</td>\n",
       "      <td>0</td>\n",
       "      <td>0</td>\n",
       "      <td>0</td>\n",
       "      <td>0</td>\n",
       "      <td>51055</td>\n",
       "    </tr>\n",
       "    <tr>\n",
       "      <th>4</th>\n",
       "      <td>0</td>\n",
       "      <td>0</td>\n",
       "      <td>0</td>\n",
       "      <td>0</td>\n",
       "      <td>0</td>\n",
       "      <td>0</td>\n",
       "      <td>0</td>\n",
       "      <td>0</td>\n",
       "      <td>0</td>\n",
       "      <td>0</td>\n",
       "      <td>...</td>\n",
       "      <td>0</td>\n",
       "      <td>0</td>\n",
       "      <td>0</td>\n",
       "      <td>0</td>\n",
       "      <td>0</td>\n",
       "      <td>0</td>\n",
       "      <td>0</td>\n",
       "      <td>0</td>\n",
       "      <td>0</td>\n",
       "      <td>70830</td>\n",
       "    </tr>\n",
       "  </tbody>\n",
       "</table>\n",
       "<p>5 rows × 74 columns</p>\n",
       "</div>"
      ],
      "text/plain": [
       "   main_S60_1  main_S60_2  main_type_SP100D  main_type_S60D_1  \\\n",
       "0           0           0                 0                 0   \n",
       "1           0           0                 0                 0   \n",
       "2           0           0                 0                 0   \n",
       "3           0           0                 0                 0   \n",
       "4           0           0                 0                 0   \n",
       "\n",
       "   main_type_S60D_2  main_type_S70  main_type_S70D  main_type_S75  \\\n",
       "0                 0              1               0              0   \n",
       "1                 0              0               0              0   \n",
       "2                 0              0               0              0   \n",
       "3                 0              0               0              0   \n",
       "4                 0              0               0              0   \n",
       "\n",
       "   main_type_S75D  main_type_S80  ...  sales_22  sales_23  sales_24  sales_25  \\\n",
       "0               0              0  ...         0         0         0         0   \n",
       "1               0              0  ...         0         0         0         0   \n",
       "2               0              0  ...         0         0         0         0   \n",
       "3               0              0  ...         0         0         0         0   \n",
       "4               0              0  ...         0         0         0         0   \n",
       "\n",
       "   sales_26  sales_27  sales_28  sales_29  sales_30   MSRP  \n",
       "0         0         0         0         0         0  44610  \n",
       "1         0         0         0         0         0  41505  \n",
       "2         0         0         0         0         0  58890  \n",
       "3         0         0         0         0         0  51055  \n",
       "4         0         0         0         0         0  70830  \n",
       "\n",
       "[5 rows x 74 columns]"
      ]
     },
     "execution_count": 4,
     "metadata": {},
     "output_type": "execute_result"
    }
   ],
   "source": [
    "df_sales = df_sales.drop(columns=['dealer_state','date'])\n",
    "df_sales.head()"
   ]
  },
  {
   "cell_type": "markdown",
   "metadata": {
    "id": "qqdkmnCodnNC"
   },
   "source": [
    "### Read in the CSV file containing the California sales data for Quarters 3 and 4\n",
    "\n",
    "The `'dealer_state'` and `'date'` columns have already been eliminated in this dataset, so you don't need to worry about them here. Examine the data's shape and first few rows."
   ]
  },
  {
   "cell_type": "code",
   "execution_count": 5,
   "metadata": {
    "id": "bJpTgHxAdnND"
   },
   "outputs": [
    {
     "name": "stdout",
     "output_type": "stream",
     "text": [
      "(6666, 74)\n"
     ]
    },
    {
     "data": {
      "text/html": [
       "<div>\n",
       "<style scoped>\n",
       "    .dataframe tbody tr th:only-of-type {\n",
       "        vertical-align: middle;\n",
       "    }\n",
       "\n",
       "    .dataframe tbody tr th {\n",
       "        vertical-align: top;\n",
       "    }\n",
       "\n",
       "    .dataframe thead th {\n",
       "        text-align: right;\n",
       "    }\n",
       "</style>\n",
       "<table border=\"1\" class=\"dataframe\">\n",
       "  <thead>\n",
       "    <tr style=\"text-align: right;\">\n",
       "      <th></th>\n",
       "      <th>main_S60_1</th>\n",
       "      <th>main_S60_2</th>\n",
       "      <th>main_type_SP100D</th>\n",
       "      <th>main_type_S60D_1</th>\n",
       "      <th>main_type_S60D_2</th>\n",
       "      <th>main_type_S70</th>\n",
       "      <th>main_type_S70D</th>\n",
       "      <th>main_type_S75</th>\n",
       "      <th>main_type_S75D</th>\n",
       "      <th>main_type_S80</th>\n",
       "      <th>...</th>\n",
       "      <th>sales_22</th>\n",
       "      <th>sales_23</th>\n",
       "      <th>sales_24</th>\n",
       "      <th>sales_25</th>\n",
       "      <th>sales_26</th>\n",
       "      <th>sales_27</th>\n",
       "      <th>sales_28</th>\n",
       "      <th>sales_29</th>\n",
       "      <th>sales_30</th>\n",
       "      <th>MSRP</th>\n",
       "    </tr>\n",
       "  </thead>\n",
       "  <tbody>\n",
       "    <tr>\n",
       "      <th>0</th>\n",
       "      <td>0</td>\n",
       "      <td>0</td>\n",
       "      <td>0</td>\n",
       "      <td>0</td>\n",
       "      <td>0</td>\n",
       "      <td>1</td>\n",
       "      <td>0</td>\n",
       "      <td>0</td>\n",
       "      <td>0</td>\n",
       "      <td>0</td>\n",
       "      <td>...</td>\n",
       "      <td>0</td>\n",
       "      <td>0</td>\n",
       "      <td>1</td>\n",
       "      <td>0</td>\n",
       "      <td>0</td>\n",
       "      <td>0</td>\n",
       "      <td>0</td>\n",
       "      <td>0</td>\n",
       "      <td>0</td>\n",
       "      <td>51355</td>\n",
       "    </tr>\n",
       "    <tr>\n",
       "      <th>1</th>\n",
       "      <td>0</td>\n",
       "      <td>0</td>\n",
       "      <td>0</td>\n",
       "      <td>0</td>\n",
       "      <td>0</td>\n",
       "      <td>0</td>\n",
       "      <td>0</td>\n",
       "      <td>0</td>\n",
       "      <td>0</td>\n",
       "      <td>0</td>\n",
       "      <td>...</td>\n",
       "      <td>0</td>\n",
       "      <td>0</td>\n",
       "      <td>0</td>\n",
       "      <td>0</td>\n",
       "      <td>0</td>\n",
       "      <td>0</td>\n",
       "      <td>0</td>\n",
       "      <td>0</td>\n",
       "      <td>0</td>\n",
       "      <td>71580</td>\n",
       "    </tr>\n",
       "    <tr>\n",
       "      <th>2</th>\n",
       "      <td>0</td>\n",
       "      <td>0</td>\n",
       "      <td>0</td>\n",
       "      <td>0</td>\n",
       "      <td>0</td>\n",
       "      <td>0</td>\n",
       "      <td>0</td>\n",
       "      <td>0</td>\n",
       "      <td>0</td>\n",
       "      <td>0</td>\n",
       "      <td>...</td>\n",
       "      <td>0</td>\n",
       "      <td>0</td>\n",
       "      <td>0</td>\n",
       "      <td>0</td>\n",
       "      <td>0</td>\n",
       "      <td>0</td>\n",
       "      <td>0</td>\n",
       "      <td>0</td>\n",
       "      <td>0</td>\n",
       "      <td>66790</td>\n",
       "    </tr>\n",
       "    <tr>\n",
       "      <th>3</th>\n",
       "      <td>0</td>\n",
       "      <td>0</td>\n",
       "      <td>0</td>\n",
       "      <td>0</td>\n",
       "      <td>0</td>\n",
       "      <td>0</td>\n",
       "      <td>0</td>\n",
       "      <td>0</td>\n",
       "      <td>0</td>\n",
       "      <td>0</td>\n",
       "      <td>...</td>\n",
       "      <td>0</td>\n",
       "      <td>0</td>\n",
       "      <td>0</td>\n",
       "      <td>0</td>\n",
       "      <td>0</td>\n",
       "      <td>0</td>\n",
       "      <td>0</td>\n",
       "      <td>0</td>\n",
       "      <td>0</td>\n",
       "      <td>72330</td>\n",
       "    </tr>\n",
       "    <tr>\n",
       "      <th>4</th>\n",
       "      <td>0</td>\n",
       "      <td>0</td>\n",
       "      <td>0</td>\n",
       "      <td>0</td>\n",
       "      <td>0</td>\n",
       "      <td>0</td>\n",
       "      <td>0</td>\n",
       "      <td>0</td>\n",
       "      <td>0</td>\n",
       "      <td>0</td>\n",
       "      <td>...</td>\n",
       "      <td>0</td>\n",
       "      <td>0</td>\n",
       "      <td>0</td>\n",
       "      <td>0</td>\n",
       "      <td>0</td>\n",
       "      <td>0</td>\n",
       "      <td>0</td>\n",
       "      <td>0</td>\n",
       "      <td>0</td>\n",
       "      <td>55370</td>\n",
       "    </tr>\n",
       "  </tbody>\n",
       "</table>\n",
       "<p>5 rows × 74 columns</p>\n",
       "</div>"
      ],
      "text/plain": [
       "   main_S60_1  main_S60_2  main_type_SP100D  main_type_S60D_1  \\\n",
       "0           0           0                 0                 0   \n",
       "1           0           0                 0                 0   \n",
       "2           0           0                 0                 0   \n",
       "3           0           0                 0                 0   \n",
       "4           0           0                 0                 0   \n",
       "\n",
       "   main_type_S60D_2  main_type_S70  main_type_S70D  main_type_S75  \\\n",
       "0                 0              1               0              0   \n",
       "1                 0              0               0              0   \n",
       "2                 0              0               0              0   \n",
       "3                 0              0               0              0   \n",
       "4                 0              0               0              0   \n",
       "\n",
       "   main_type_S75D  main_type_S80  ...  sales_22  sales_23  sales_24  sales_25  \\\n",
       "0               0              0  ...         0         0         1         0   \n",
       "1               0              0  ...         0         0         0         0   \n",
       "2               0              0  ...         0         0         0         0   \n",
       "3               0              0  ...         0         0         0         0   \n",
       "4               0              0  ...         0         0         0         0   \n",
       "\n",
       "   sales_26  sales_27  sales_28  sales_29  sales_30   MSRP  \n",
       "0         0         0         0         0         0  51355  \n",
       "1         0         0         0         0         0  71580  \n",
       "2         0         0         0         0         0  66790  \n",
       "3         0         0         0         0         0  72330  \n",
       "4         0         0         0         0         0  55370  \n",
       "\n",
       "[5 rows x 74 columns]"
      ]
     },
     "execution_count": 5,
     "metadata": {},
     "output_type": "execute_result"
    }
   ],
   "source": [
    "### START CODE HERE ###\n",
    "# Read in the Q34 data\n",
    "df_pred = pd.read_csv(\"sales_Q34_2019.csv\")\n",
    "# Print the shape of the data\n",
    "print(np.shape(df_pred))\n",
    "# Examine the first few rows of the data\n",
    "df_pred.head()\n",
    "### END CODE HERE ###"
   ]
  },
  {
   "cell_type": "markdown",
   "metadata": {
    "id": "kcmsU-T1dnNF"
   },
   "source": [
    "# Task I. Consolidate data by finding numbers of unique car combinations sold for training and test data sets\n",
    "\n",
    "You've probably noticed that 73 of the 74 columns in our Q12 and Q34 datasets are one-hot-encoded representations of the car's `'main_type'`, `'engine'`, and `'sales_version'` values. You've probably also noticed that the final column is the car's `'MSRP'`, or manufacturer's (Tesla's, in this case) suggested retail price. In its current form, the sales data doesn't contain a target. The car's `'main_type'`, `'engine'`, `'sales_version'`, and `'MSRP'` values are all known to us before the time of the sale and do not, by themselves, offer us anything which we can predict. \n",
    "\n",
    "However, each row represents the sale of a single car. If we define a unique car type by its combination of `'main_type'`, `'engine'`, and `'sales_version'` values, the number of rows displaying that combination corresponds to the number of times during that half of the year that that distinct type of car was sold in California. Therefore, we can make training and test datasets where each row now corresponds to a unique car type, and the target value is how many times that car type was sold in California during a given half of the year.\n",
    "\n",
    "## This task requires data wrangling!\n",
    "## Create functions that read the Q12 (df_sales) and Q34 (df_pred) data sets and create train_X, train_Y, test_X and test_Y, respectively. Use pandas and NumPy as needed.\n",
    "\n",
    "train_X, test_X = unique row combinations without MSRP column\n",
    "\n",
    "train_Y, test_Y = number of unique cars sold"
   ]
  },
  {
   "cell_type": "code",
   "execution_count": 6,
   "metadata": {
    "id": "qRlSIcDGhJ74"
   },
   "outputs": [],
   "source": [
    "def get_features_and_targets(df):\n",
    "    ### START CODE HERE ###\n",
    "    # Create the local data DataFrame as a copy of the input df DataFrame, minus the 'MSRP' column\n",
    "    data = df.drop(columns=['MSRP'])\n",
    "    # Use the value_counts() method for DataFrames to store the targets as a NumPy array of the \n",
    "    # normalized sales counts associated with each unique combination of 'main_type', 'engine', \n",
    "    # and 'sales_version' values in the data DataFrame\n",
    "    # Make sure the counts are unsorted, so they're listed in order of the combination's first appearance\n",
    "    # in the data DataFrame, and that the array is 2D, with 1 entry per row\n",
    "    Y = np.array(data.value_counts(sort=False, normalize=True))[:, np.newaxis] \n",
    "    # Get a list of the column names of the data DataFrame\n",
    "    subset_names = data.columns.values.tolist()\n",
    "    # Use the drop_duplicates() method on the df DataFrame to store the features data as a NumPy array where\n",
    "    # each row corresponds to a unique combination of 'main_type', 'engine', and 'sales_version' values\n",
    "    # Make sure to set the subset parameter to subset_names, so the 'MSRP' column isn't included in the \n",
    "    # uniqueness calculations\n",
    "    X = np.array(df.drop_duplicates(subset=subset_names))\n",
    "    # Scale and shift the 'MSRP' column so its values fall in the range [0,1]\n",
    "    # You might find NumPy's ptp() function useful\n",
    "    X[:,-1] = ( X[:,-1] - min(X[:,-1]) ) / np.ptp(X[:,-1])\n",
    "    # Return features and targets\n",
    "    return X, Y\n",
    "    ### END CODE HERE ###"
   ]
  },
  {
   "cell_type": "markdown",
   "metadata": {
    "id": "toTX3W89fX2P"
   },
   "source": [
    "### Extract features and targets as defined above from both the Q12 and Q34 datasets"
   ]
  },
  {
   "cell_type": "code",
   "execution_count": 7,
   "metadata": {
    "id": "Rf6Vj0ujhJ77"
   },
   "outputs": [
    {
     "name": "stdout",
     "output_type": "stream",
     "text": [
      "Number of unique cars in Q12 = 66\n",
      "Number of unique cars in Q34 = 71\n"
     ]
    }
   ],
   "source": [
    "### START CODE HERE ###\n",
    "# Extract training features and targets from the Q12 data\n",
    "train_X, train_Y = get_features_and_targets(df_sales)\n",
    "# Extract test features and targets from the Q34 data\n",
    "test_X, test_Y = get_features_and_targets(df_pred)\n",
    "### END CODE HERE ###\n",
    "print(f\"Number of unique cars in Q12 = {len(train_Y)}\")\n",
    "print(f\"Number of unique cars in Q34 = {len(test_Y)}\")"
   ]
  },
  {
   "cell_type": "markdown",
   "metadata": {
    "id": "8d7BSjsQdnNV"
   },
   "source": [
    "You probably noticed that the Q12 and Q34 datasets contained differing numbers of distinct cars. Clearly, some new models were introduced by Q3, but were any discontinued by the end of Q2? Let's find out."
   ]
  },
  {
   "cell_type": "code",
   "execution_count": 8,
   "metadata": {
    "id": "luGBEZB5hJ8A"
   },
   "outputs": [
    {
     "name": "stdout",
     "output_type": "stream",
     "text": [
      "Number of unique cars in Q12 and Q34 = 80\n"
     ]
    }
   ],
   "source": [
    "# How many unique cars in 2012 (Q1:Q4)?\n",
    "### START CODE HERE ### \n",
    "# Concatenate the Q12 and Q34 DataFrames into a single DataFrame\n",
    "df_full = pd.concat([df_sales, df_pred])\n",
    "# Extract features and targets from the concatenated Q14 data\n",
    "data_X, data_Y = get_features_and_targets(df_full)\n",
    "### END CODE HERE ###\n",
    "print(f\"Number of unique cars in Q12 and Q34 = {len(data_Y)}\")"
   ]
  },
  {
   "cell_type": "markdown",
   "metadata": {
    "id": "AGEXB0mCdnNb"
   },
   "source": [
    "The following probability equations are true for any two events $A$ and $B$:\n",
    "\n",
    "$$P (A \\cup B) = P(A) + P(B) - P (A \\cap B)$$\n",
    "$$P(A) = P (A \\cap B) + P (A \\cap B^c)$$\n",
    "\n",
    "Use them to determine how many car models were sold in both halves of 2019, how many were discontinued by the second half of the year, and how many were launched in the second half of the year."
   ]
  },
  {
   "cell_type": "code",
   "execution_count": 9,
   "metadata": {
    "id": "Hewxl1lMf-VF"
   },
   "outputs": [
    {
     "name": "stdout",
     "output_type": "stream",
     "text": [
      "57 models were sold throughout 2019\n",
      "9 models were discontinued by the second half of 2019\n",
      "14 models were launched in the second half of 2019\n"
     ]
    }
   ],
   "source": [
    "### START CODE HERE ###\n",
    "models_q12_or_q34 = len(data_Y)\n",
    "models_q12 = len(train_Y)\n",
    "models_q34 = len(test_Y)\n",
    "models_q14 = models_q12 + models_q34 - models_q12_or_q34\n",
    "discontinued = models_q12 - models_q14\n",
    "launched = models_q34 - models_q14\n",
    "print(f\"{models_q14} models were sold throughout 2019\")\n",
    "print(f\"{discontinued} models were discontinued by the second half of 2019\")\n",
    "print(f\"{launched} models were launched in the second half of 2019\")\n",
    "### END CODE HERE ###"
   ]
  },
  {
   "cell_type": "markdown",
   "metadata": {
    "id": "3qn6SNBNdnNb"
   },
   "source": [
    "# Task II: Visualize the training and test targets any way you see fit"
   ]
  },
  {
   "cell_type": "code",
   "execution_count": 10,
   "metadata": {
    "id": "RsuuxEqhjD6q"
   },
   "outputs": [
    {
     "data": {
      "image/png": "[encoded data removed]",
      "text/plain": [
       "<Figure size 432x288 with 1 Axes>"
      ]
     },
     "metadata": {
      "needs_background": "light"
     },
     "output_type": "display_data"
    }
   ],
   "source": [
    "# Visualize the training targets\n",
    "### START CODE HERE ###\n",
    "plt.scatter(range(len(train_Y)), train_Y)\n",
    "plt.show()\n",
    "### END CODE HERE ###"
   ]
  },
  {
   "cell_type": "code",
   "execution_count": 11,
   "metadata": {
    "id": "gyGN9vqLdnNe"
   },
   "outputs": [
    {
     "data": {
      "image/png": "[encoded data removed]",
      "text/plain": [
       "<Figure size 432x288 with 1 Axes>"
      ]
     },
     "metadata": {
      "needs_background": "light"
     },
     "output_type": "display_data"
    }
   ],
   "source": [
    "# Visualize the test targets\n",
    "### START CODE HERE ###\n",
    "plt.scatter(range(len(test_Y)), test_Y)\n",
    "plt.show()\n",
    "### END CODE HERE ###"
   ]
  },
  {
   "cell_type": "markdown",
   "metadata": {
    "id": "9g-2fwgydnNh"
   },
   "source": [
    "# Task III: Apply Gradient Descent (Linear, Polynomial)"
   ]
  },
  {
   "cell_type": "markdown",
   "metadata": {
    "id": "fXjeuMN3dnNh"
   },
   "source": [
    "Initialize the $\\theta$ parameters as a column vector of zeros, one for every feature in the training data plus one for bias. \n",
    "\n",
    "Also set hyperparameters for learning rate and maximum number of iterations through the training data."
   ]
  },
  {
   "cell_type": "code",
   "execution_count": 12,
   "metadata": {
    "id": "bq--V5vSdnNi"
   },
   "outputs": [],
   "source": [
    "# Initialize learned parameters theta and hyperparameters\n",
    "s_theta = np.zeros((train_X.shape[1]+1, 1))\n",
    "s_learning_rate = 0.001\n",
    "s_max_iteration = 1000"
   ]
  },
  {
   "cell_type": "markdown",
   "metadata": {
    "id": "Lx-wS125dnNk"
   },
   "source": [
    "### Hypothesis Function\n",
    "\n",
    "Define your hypothesis function $h$ (which you use to make predictions $\\hat{Y}$ as the matrix product of your features data X and parameters theta, in that order. \n",
    "\n",
    "Don't forget to add a 0th column of ones to X to account for the bias/offset parameter."
   ]
  },
  {
   "cell_type": "code",
   "execution_count": 13,
   "metadata": {
    "id": "SI8oTUQsdnNk"
   },
   "outputs": [],
   "source": [
    "# Define your hypothesis function according to the instructions above\n",
    "def h (theta, X) :\n",
    "    ### START CODE HERE ###\n",
    "    tempX = np.ones((X.shape[0], X.shape[1] + 1))\n",
    "    tempX[:,1:] = X\n",
    "    return np.matmul(tempX, theta)\n",
    "    ### END CODE HERE ###"
   ]
  },
  {
   "cell_type": "markdown",
   "metadata": {
    "id": "7LW5F5uhdnNm"
   },
   "source": [
    "Define your loss function as **half** the MSE (mean squared error) between your actual and predicted Y values. \n",
    "\n",
    "Recall that the predicted Y values are a function of theta and X.\n"
   ]
  },
  {
   "cell_type": "code",
   "execution_count": 14,
   "metadata": {
    "id": "KzRpZec4dnNm"
   },
   "outputs": [],
   "source": [
    "# Loss Function\n",
    "def loss (theta, X, Y) :\n",
    "    ### START CODE HERE ###\n",
    "    return np.average(np.square(Y - h(theta, X))) / 2\n",
    "    ### END CODE HERE ###"
   ]
  },
  {
   "cell_type": "markdown",
   "metadata": {
    "id": "PCLgRXivdnNp"
   },
   "source": [
    "### Gradient of Hypothesis Function\n",
    "\n",
    "One can verify through straightforward (if somewhat tedious) multivariable calculus that the gradient of the loss function $J$ with respect to the parameters $\\theta$ is \n",
    "\n",
    "$$ \\frac{\\partial J}{\\partial \\theta} = - \\frac{1}{m} X^T \\cdot (Y - \\hat{Y})$$.\n",
    "\n",
    "Here, $X$ has been augmented with a bias column. \n",
    "\n",
    "Set up a function to compute this gradient."
   ]
  },
  {
   "cell_type": "code",
   "execution_count": 15,
   "metadata": {
    "id": "3zYnvBa1dnNp"
   },
   "outputs": [],
   "source": [
    "def gradient (theta, X, Y) :\n",
    "    ### START CODE HERE ###\n",
    "    # Create a temporary X array with an added 0th bias column\n",
    "    tempX = np.ones((X.shape[0], X.shape[1] + 1))\n",
    "    tempX[:,1:] = X\n",
    "    # Compute the gradient according to the instructions above\n",
    "    d_theta = - np.dot(tempX.T, Y - h(theta, X)) / X.shape[0]\n",
    "    ### END CODE HERE ###\n",
    "    return d_theta"
   ]
  },
  {
   "cell_type": "markdown",
   "metadata": {
    "id": "fo-NxmSLdnNr"
   },
   "source": [
    "### Gradient Descent\n",
    "\n",
    "Set up a function to train your linear regression model with gradient descent, i.e. calculate $\\frac{\\partial J}{\\partial \\theta}$ and update $\\theta$. Recall that the general gradient descent update formula is $\\theta := \\theta - \\alpha \\frac{\\partial J}{\\partial \\theta}$. We've provided the skeleton of a stochastic gradient descent function, but you're welcome to experiment with batch and/or minibatch gradient descent. Also recall that the aforementioned gradient descent methods differ in how frequently they calculate $\\frac{\\partial J}{\\partial \\theta}$ and update $\\theta$. "
   ]
  },
  {
   "cell_type": "code",
   "execution_count": 103,
   "metadata": {
    "id": "g6hbmDgkdnNs"
   },
   "outputs": [],
   "source": [
    "def stochastic_gradient_descent (theta, X, Y, learning_rate, max_iteration, gap, verbose=True) :\n",
    "    ### START CODE HERE ###\n",
    "    # Initialize the cost as an array of zeros, one for each iteration through the dataset\n",
    "    cost = np.zeros(max_iteration)\n",
    "    # Loop over the dataset\n",
    "    for i in range(max_iteration):\n",
    "        # Loop over each row in the dataset\n",
    "        for j in range(X.shape[0]):\n",
    "            # Compute the gradient from the current row in X and the associated Y value\n",
    "            # Make sure that both X and Y are represented as 2D row vectors\n",
    "            d_theta = gradient (theta, X[np.newaxis, j, :], Y[np.newaxis, j, :])\n",
    "            # Update theta\n",
    "            theta = theta - learning_rate * d_theta\n",
    "        # Update the cost array for the current iteration\n",
    "        cost[i] = loss(theta, X, Y)\n",
    "    ### END CODE HERE ###\n",
    "        if verbose and i % gap == 0 :\n",
    "            print ('iteration : ', i, ' loss : ', loss(theta, X, Y)) \n",
    "    return theta, cost"
   ]
  },
  {
   "cell_type": "code",
   "execution_count": 17,
   "metadata": {
    "id": "O084UJ8UdnNt"
   },
   "outputs": [
    {
     "name": "stdout",
     "output_type": "stream",
     "text": [
      "iteration :  0  loss :  0.0004206533214992532\n",
      "iteration :  100  loss :  0.0002422983467552357\n",
      "iteration :  200  loss :  0.00021788868167880285\n",
      "iteration :  300  loss :  0.00020533288342740923\n",
      "iteration :  400  loss :  0.00019779653985861766\n",
      "iteration :  500  loss :  0.00019286413605363383\n",
      "iteration :  600  loss :  0.0001894284804626956\n",
      "iteration :  700  loss :  0.00018691690844249825\n",
      "iteration :  800  loss :  0.00018500756875786405\n",
      "iteration :  900  loss :  0.0001835079702943847\n"
     ]
    }
   ],
   "source": [
    "s_theta, s_cost = stochastic_gradient_descent(s_theta, train_X, train_Y, s_learning_rate, s_max_iteration, 100)"
   ]
  },
  {
   "cell_type": "markdown",
   "metadata": {
    "id": "B6D2kqejdnNv"
   },
   "source": [
    "### Generate Predictions from Test Data"
   ]
  },
  {
   "cell_type": "code",
   "execution_count": 18,
   "metadata": {
    "id": "m-u3iTbNdnNw"
   },
   "outputs": [],
   "source": [
    "### START CODE HERE ###\n",
    "GD_P = h(s_theta,test_X)\n",
    "### END CODE HERE ###\n",
    "# Set any negative predictions to 0\n",
    "GD_P[GD_P<0] = 0"
   ]
  },
  {
   "cell_type": "markdown",
   "metadata": {
    "id": "2ImYOho6dnNy"
   },
   "source": [
    "### Visualize the predicted and actual test labels"
   ]
  },
  {
   "cell_type": "code",
   "execution_count": 19,
   "metadata": {
    "id": "Ljk24gJ4dnNy"
   },
   "outputs": [
    {
     "name": "stdout",
     "output_type": "stream",
     "text": [
      "RMSE, R2 using SGD= 0.0005189242294533941 0.69390131959586\n"
     ]
    },
    {
     "data": {
      "image/png": "[encoded data removed]",
      "text/plain": [
       "<Figure size 432x288 with 1 Axes>"
      ]
     },
     "metadata": {
      "needs_background": "light"
     },
     "output_type": "display_data"
    }
   ],
   "source": [
    "plt.scatter(range(len(test_Y)), test_Y,  color='black')\n",
    "plt.scatter(range(len(GD_P)), GD_P, color='blue', linewidth=3)\n",
    "from sklearn.metrics import mean_squared_error as MSE\n",
    "\n",
    "# This function evaluates the R**2 statistic\n",
    "def r2(Yt,Yp):\n",
    "    yhat = Yp                         \n",
    "    ybar = np.sum(Yt)/len(Yt)          \n",
    "    ssreg = np.sum((yhat-ybar)**2)   \n",
    "    sstot = np.sum((Yt - ybar)**2)    \n",
    "    results = ssreg / sstot\n",
    "    return results\n",
    "\n",
    "\n",
    "print(\"RMSE, R2 using SGD=\", MSE(test_Y,GD_P), r2(test_Y,GD_P))"
   ]
  },
  {
   "cell_type": "markdown",
   "metadata": {
    "id": "QNFkAA7gdnN0"
   },
   "source": [
    "# Task IV: Normal Equations\n",
    "\n",
    "Since our training dataset isn't very large, let's generate predictions using the normal equations: \n",
    "\n",
    "$$W = (X^T \\cdot X)^{-1} \\cdot X^T \\cdot Y$$ \n",
    "$$\\hat{Y} = W^T \\cdot X$$\n",
    "\n",
    "and see how they compare to the predictions which we obtained from gradient descent."
   ]
  },
  {
   "cell_type": "code",
   "execution_count": 20,
   "metadata": {
    "id": "ez7XC2qQdnN1"
   },
   "outputs": [],
   "source": [
    "### START CODE HERE ###\n",
    "train_X_ones = np.concatenate((np.ones((train_X.shape[0], 1)), train_X), axis=1)\n",
    "test_X_ones = np.concatenate((np.ones((test_X.shape[0], 1)), test_X), axis=1)\n",
    "# Compute the inverse of the matrix product of the transpose of X and X\n",
    "inv1 = np.linalg.pinv(np.matmul(train_X_ones.T, train_X_ones))\n",
    "# Compute W using the first of the Normal Equations\n",
    "W1 = np.matmul(np.matmul(inv1, train_X_ones.T), train_Y)\n",
    "# Compute the predicted Y values using the second of the Normal Equations\n",
    "PN1 = np.matmul(test_X_ones, W1)\n",
    "### END CODE HERE ###\n",
    "\n",
    "# Set any negative predictions to 0\n",
    "PN1[np.where(PN1<0)]=0"
   ]
  },
  {
   "cell_type": "code",
   "execution_count": 21,
   "metadata": {
    "id": "lu9NjgsJdnN3",
    "scrolled": true
   },
   "outputs": [
    {
     "name": "stdout",
     "output_type": "stream",
     "text": [
      "RMSE, R2 for prediction all features = 0.0005752830089194811 0.8729135062643165\n"
     ]
    },
    {
     "data": {
      "image/png": "[encoded data removed]",
      "text/plain": [
       "<Figure size 432x288 with 1 Axes>"
      ]
     },
     "metadata": {
      "needs_background": "light"
     },
     "output_type": "display_data"
    }
   ],
   "source": [
    "# Plot outputs\n",
    "plt.scatter(range(len(test_Y)), test_Y,  color='black')\n",
    "plt.scatter(range(len(PN1)), PN1, color='blue', linewidth=3)\n",
    "print(\"RMSE, R2 for prediction all features =\", MSE(test_Y,PN1), r2(test_Y,PN1)) #[Low error high corr]"
   ]
  },
  {
   "cell_type": "markdown",
   "metadata": {
    "id": "i3ofJxdUdnN6"
   },
   "source": [
    "### Regularized Normal Equations"
   ]
  },
  {
   "cell_type": "code",
   "execution_count": 176,
   "metadata": {
    "id": "VyIX4LaAdnN6"
   },
   "outputs": [
    {
     "name": "stdout",
     "output_type": "stream",
     "text": [
      "Recall that our training features array train_X has\n",
      "m = 66 rows and n = 74 columns\n"
     ]
    }
   ],
   "source": [
    "print('Recall that our training features array train_X has')\n",
    "print(f'm = {train_X.shape[0]} rows and n = {train_X.shape[1]} columns')"
   ]
  },
  {
   "cell_type": "markdown",
   "metadata": {
    "id": "BSvkrQ6EdnN8"
   },
   "source": [
    "`train_X` is thus wider than it is tall, which suggests that the regularized normal equations might perform better in generating label predictions. In this case, we modify the first of the normal equations given above to \n",
    "\n",
    "$$W = (X^T \\cdot X + \\lambda m I)^{-1} \\cdot X^T \\cdot Y$$.\n",
    "\n",
    "Here, $\\lambda$ is the regularization parameter and $m$ is the number of rows in $X$."
   ]
  },
  {
   "cell_type": "markdown",
   "metadata": {
    "id": "7Mgd1zocdnN9"
   },
   "source": [
    "### Repeat the previous parts of Task IV, but this time incorporate regularization"
   ]
  },
  {
   "cell_type": "code",
   "execution_count": 23,
   "metadata": {
    "id": "bIrbJkOydnN9"
   },
   "outputs": [],
   "source": [
    "### START CODE HERE ###\n",
    "lam = 0.001\n",
    "train_X_ones = np.concatenate((np.ones((train_X.shape[0], 1)), train_X), axis=1)\n",
    "test_X_ones = np.concatenate((np.ones((test_X.shape[0], 1)), test_X), axis=1)\n",
    "# Compute the inverse of the matrix product of the transpose of X and X\n",
    "inv1 = np.linalg.pinv(np.matmul(train_X_ones.T, train_X_ones) + lam * train_X_ones.shape[0] * np.eye(train_X_ones.shape[1]))\n",
    "# Compute W using the first of the Normal Equations\n",
    "W1 = np.matmul(np.matmul(inv1, train_X_ones.T), train_Y)\n",
    "# Compute the predicted Y values using the second of the Normal Equations\n",
    "PN1 = np.matmul(test_X_ones, W1)\n",
    "### END CODE HERE ###\n",
    "\n",
    "# Set any negative predictions to 0\n",
    "PN1[np.where(PN1<0)]=0"
   ]
  },
  {
   "cell_type": "code",
   "execution_count": 24,
   "metadata": {},
   "outputs": [
    {
     "name": "stdout",
     "output_type": "stream",
     "text": [
      "RMSE, R2 for prediction all features = 0.0005568011591403914 0.8152166383458974\n"
     ]
    },
    {
     "data": {
      "image/png": "[encoded data removed]",
      "text/plain": [
       "<Figure size 432x288 with 1 Axes>"
      ]
     },
     "metadata": {
      "needs_background": "light"
     },
     "output_type": "display_data"
    }
   ],
   "source": [
    "# Plot outputs\n",
    "plt.scatter(range(len(test_Y)), test_Y,  color='black')\n",
    "plt.scatter(range(len(PN1)), PN1, color='blue', linewidth=3)\n",
    "print(\"RMSE, R2 for prediction all features =\", MSE(test_Y,PN1), r2(test_Y,PN1)) #[Low error high corr]"
   ]
  },
  {
   "cell_type": "markdown",
   "metadata": {
    "id": "o5uD0DVidnN_"
   },
   "source": [
    "# Task V: Non-linear Regression Models (GLM, DT) "
   ]
  },
  {
   "cell_type": "markdown",
   "metadata": {
    "id": "Yk0Be7SQdnN_"
   },
   "source": [
    "### Generalized Linear Models\n",
    "\n",
    "`sm` (our alias for `statsmodels.api`) contains a `GLM` class. Use it to instantiate a model. The relevant parameters are training labels, training features, and `ffamily`, i.e. the family of distributions to which we assume our prediction errors belong. Some potentially good choices for `ffamily` include Gaussian, Gamma, and Logit."
   ]
  },
  {
   "cell_type": "code",
   "execution_count": 31,
   "metadata": {
    "id": "cxUdD_LhdnN_"
   },
   "outputs": [
    {
     "name": "stdout",
     "output_type": "stream",
     "text": [
      "                 Generalized Linear Model Regression Results                  \n",
      "==============================================================================\n",
      "Dep. Variable:                      y   No. Observations:                   66\n",
      "Model:                            GLM   Df Residuals:                       34\n",
      "Model Family:                Gaussian   Df Model:                           31\n",
      "Link Function:               identity   Scale:                       0.0078657\n",
      "Method:                          IRLS   Log-Likelihood:                 169.60\n",
      "Date:                Sat, 24 Oct 2020   Deviance:                     0.022652\n",
      "Time:                        18:34:43   Pearson chi2:                   0.0227\n",
      "No. Iterations:                   100                                         \n",
      "Covariance Type:            nonrobust                                         \n",
      "==============================================================================\n",
      "                 coef    std err          z      P>|z|      [0.025      0.975]\n",
      "------------------------------------------------------------------------------\n",
      "const      -8.355e-19   1.32e-16     -0.006      0.995    -2.6e-16    2.58e-16\n",
      "x1          4.919e-17    2.3e-16      0.214      0.830   -4.01e-16    4.99e-16\n",
      "x2             0.0026      0.125      0.020      0.984      -0.243       0.248\n",
      "x3            -0.0637      0.177     -0.359      0.719      -0.411       0.284\n",
      "x4            -0.0037      0.053     -0.069      0.945      -0.108       0.101\n",
      "x5             0.0283      0.037      0.756      0.450      -0.045       0.102\n",
      "x6            -0.0039      0.044     -0.090      0.928      -0.089       0.081\n",
      "x7         -2.458e-17    1.3e-16     -0.189      0.850    -2.8e-16    2.31e-16\n",
      "x8             0.0023      0.089      0.026      0.979      -0.172       0.177\n",
      "x9            -0.0069      0.048     -0.145      0.885      -0.100       0.086\n",
      "x10           -0.0037      0.061     -0.060      0.952      -0.123       0.116\n",
      "x11            0.0031      0.049      0.062      0.950      -0.093       0.099\n",
      "x12            0.0241      0.036      0.679      0.497      -0.046       0.094\n",
      "x13           -0.0182      0.081     -0.225      0.822      -0.177       0.141\n",
      "x14         1.504e-17   8.41e-17      0.179      0.858    -1.5e-16     1.8e-16\n",
      "x15          3.29e-17   8.78e-17      0.375      0.708   -1.39e-16    2.05e-16\n",
      "x16           -0.0019      0.028     -0.066      0.948      -0.057       0.054\n",
      "x17           -0.0039      0.039     -0.101      0.920      -0.080       0.072\n",
      "x18         4.452e-17   1.02e-16      0.438      0.661   -1.55e-16    2.44e-16\n",
      "x19         1.048e-17   9.71e-17      0.108      0.914    -1.8e-16    2.01e-16\n",
      "x20        -4.316e-17   1.33e-16     -0.324      0.746   -3.04e-16    2.18e-16\n",
      "x21           -0.0135      0.051     -0.263      0.793      -0.114       0.087\n",
      "x22         1.021e-17   4.93e-17      0.207      0.836   -8.64e-17    1.07e-16\n",
      "x23            0.0215      0.069      0.314      0.754      -0.113       0.156\n",
      "x24         -1.28e-17   5.26e-17     -0.243      0.808   -1.16e-16    9.04e-17\n",
      "x25        -3.824e-19   5.26e-18     -0.073      0.942   -1.07e-17    9.92e-18\n",
      "x26         4.629e-18   1.65e-17      0.281      0.779   -2.77e-17    3.69e-17\n",
      "x27         3.538e-19   5.92e-18      0.060      0.952   -1.12e-17     1.2e-17\n",
      "x28        -2.397e-18    1.9e-17     -0.126      0.899   -3.95e-17    3.48e-17\n",
      "x29         2.177e-18   9.45e-18      0.230      0.818   -1.63e-17    2.07e-17\n",
      "x30           -0.0031      0.103     -0.030      0.976      -0.204       0.198\n",
      "x31           -0.0095      0.080     -0.118      0.906      -0.167       0.148\n",
      "x32           -0.0104      0.039     -0.267      0.790      -0.086       0.066\n",
      "x33           -0.0034      0.032     -0.105      0.917      -0.067       0.060\n",
      "x34         5.412e-32   2.63e-31      0.206      0.837   -4.61e-31    5.69e-31\n",
      "x35         1.277e-32    6.2e-32      0.206      0.837   -1.09e-31    1.34e-31\n",
      "x36        -3.908e-33    1.9e-32     -0.206      0.837   -4.11e-32    3.33e-32\n",
      "x37            0.0021      0.039      0.053      0.958      -0.074       0.078\n",
      "x38                 0          0        nan        nan           0           0\n",
      "x39                 0          0        nan        nan           0           0\n",
      "x40           -0.0148      0.104     -0.142      0.887      -0.219       0.189\n",
      "x41                 0          0        nan        nan           0           0\n",
      "x42           -0.0205      0.040     -0.517      0.605      -0.098       0.057\n",
      "x43            0.0269      0.069      0.391      0.696      -0.108       0.162\n",
      "x44                 0          0        nan        nan           0           0\n",
      "x45           -0.0010      0.068     -0.014      0.988      -0.135       0.133\n",
      "x46           -0.0027      0.068     -0.040      0.968      -0.136       0.131\n",
      "x47           -0.0098      0.091     -0.108      0.914      -0.189       0.169\n",
      "x48                 0          0        nan        nan           0           0\n",
      "x49           -0.0213      0.069     -0.309      0.757      -0.156       0.113\n",
      "x50           -0.0193      0.041     -0.470      0.638      -0.100       0.061\n",
      "x51           -0.0084      0.039     -0.217      0.829      -0.085       0.068\n",
      "x52            0.0112      0.086      0.130      0.896      -0.157       0.179\n",
      "x53            0.0502      0.110      0.455      0.649      -0.166       0.266\n",
      "x54                 0          0        nan        nan           0           0\n",
      "x55                 0          0        nan        nan           0           0\n",
      "x56                 0          0        nan        nan           0           0\n",
      "x57                 0          0        nan        nan           0           0\n",
      "x58                 0          0        nan        nan           0           0\n",
      "x59           -0.0044      0.105     -0.042      0.967      -0.210       0.202\n",
      "x60                 0          0        nan        nan           0           0\n",
      "x61                 0          0        nan        nan           0           0\n",
      "x62                 0          0        nan        nan           0           0\n",
      "x63           -0.0104      0.039     -0.267      0.790      -0.086       0.066\n",
      "x64                 0          0        nan        nan           0           0\n",
      "x65                 0          0        nan        nan           0           0\n",
      "x66           -0.0025      0.037     -0.068      0.946      -0.075       0.070\n",
      "x67            0.0137      0.086      0.160      0.873      -0.154       0.182\n",
      "x68            0.0215      0.069      0.314      0.754      -0.113       0.156\n",
      "x69                 0          0        nan        nan           0           0\n",
      "x70           -0.0229      0.069     -0.333      0.739      -0.158       0.112\n",
      "x71                 0          0        nan        nan           0           0\n",
      "x72                 0          0        nan        nan           0           0\n",
      "x73           -0.0040      0.130     -0.030      0.976      -0.259       0.252\n",
      "x74            0.0209      0.034      0.618      0.536      -0.045       0.087\n",
      "==============================================================================\n"
     ]
    }
   ],
   "source": [
    "# GLM \n",
    "import statsmodels.api as sm\n",
    "### START CODE HERE ###\n",
    "# Instantiate the GLM\n",
    "train_X_glm = sm.add_constant(train_X, prepend=False)\n",
    "glm_gamma = sm.GLM(train_Y, train_X_glm, family=sm.families.Gaussian(link=sm.families.links.identity()))\n",
    "# Train the GLM\n",
    "glm_results = glm_gamma.fit()\n",
    "### END CODE HERE ###\n",
    "print(glm_results.summary())"
   ]
  },
  {
   "cell_type": "markdown",
   "metadata": {
    "id": "7IAchWHodnOB"
   },
   "source": [
    "### Generate predictions from the test data"
   ]
  },
  {
   "cell_type": "code",
   "execution_count": 32,
   "metadata": {
    "id": "XLTsITX7dnOC"
   },
   "outputs": [],
   "source": [
    "### START CODE HERE ###\n",
    "test_X_glm = sm.add_constant(test_X, prepend=False)\n",
    "G_P = glm_results.predict(test_X_glm)\n",
    "### END CODE HERE ###\n",
    "# Set any negative predictions to 0\n",
    "G_P[G_P<0]=0"
   ]
  },
  {
   "cell_type": "code",
   "execution_count": 33,
   "metadata": {
    "id": "TgXIT-JpdnOE"
   },
   "outputs": [
    {
     "name": "stdout",
     "output_type": "stream",
     "text": [
      "RMSE, R2 for GLM= 0.0005752830089194832 0.8729135062643214\n"
     ]
    },
    {
     "data": {
      "image/png": "[encoded data removed]",
      "text/plain": [
       "<Figure size 432x288 with 1 Axes>"
      ]
     },
     "metadata": {
      "needs_background": "light"
     },
     "output_type": "display_data"
    }
   ],
   "source": [
    "# Plot outputs\n",
    "plt.scatter(range(len(test_Y)), test_Y,  color='black')\n",
    "plt.scatter(range(len(G_P)), G_P, color='blue', linewidth=3)\n",
    "print(\"RMSE, R2 for GLM=\", MSE(test_Y,G_P), r2(test_Y,G_P)) "
   ]
  },
  {
   "cell_type": "markdown",
   "metadata": {
    "id": "Vld0rNUcdnOG"
   },
   "source": [
    "### Random Forest Regression\n",
    "\n",
    "Use the `RandomForestRegressor` from `sklearn.ensemble` to generate predictions. The relevant parameters are the `max_depth` of the trees and the `random_state`, to ensure reproducibility."
   ]
  },
  {
   "cell_type": "code",
   "execution_count": 39,
   "metadata": {
    "id": "EbxRUm3UdnOG"
   },
   "outputs": [],
   "source": [
    "### START CODE HERE ###\n",
    "from sklearn.ensemble import RandomForestRegressor\n",
    "# Instantiate the random forest regression model\n",
    "regr = RandomForestRegressor(n_estimators=100, max_depth=20, random_state=52017)\n",
    "# Train the model\n",
    "regr.fit(train_X, train_Y.flatten())\n",
    "# Generate predictions from the test data\n",
    "pred_rf = regr.predict(test_X)\n",
    "### END CODE HERE ###"
   ]
  },
  {
   "cell_type": "code",
   "execution_count": 40,
   "metadata": {
    "id": "bWVeR1PvdnOI"
   },
   "outputs": [],
   "source": [
    "# Set any negative predictions to 0\n",
    "pred_rf[np.where(pred_rf<0)]=0"
   ]
  },
  {
   "cell_type": "code",
   "execution_count": 41,
   "metadata": {
    "id": "YSZX9t1MdnOK"
   },
   "outputs": [
    {
     "name": "stdout",
     "output_type": "stream",
     "text": [
      "RMSE, R2 for Decision Trees= 0.0006152545517427419 0.9166951417392453\n"
     ]
    },
    {
     "data": {
      "image/png": "[encoded data removed]",
      "text/plain": [
       "<Figure size 432x288 with 1 Axes>"
      ]
     },
     "metadata": {
      "needs_background": "light"
     },
     "output_type": "display_data"
    }
   ],
   "source": [
    "# Plot outputs\n",
    "plt.scatter(range(len(test_Y)), test_Y,  color='black')\n",
    "plt.scatter(range(len(pred_rf)), pred_rf, color='blue', linewidth=3)\n",
    "print(\"RMSE, R2 for Decision Trees=\", MSE(test_Y,pred_rf), r2(test_Y,pred_rf)) #[Low error high corr]"
   ]
  },
  {
   "cell_type": "markdown",
   "metadata": {
    "id": "bxx1JrikdnON"
   },
   "source": [
    "## Populate the table below with the results of your experiments above. Which models performed best?"
   ]
  },
  {
   "cell_type": "markdown",
   "metadata": {
    "id": "44MPnft4dnON"
   },
   "source": [
    "## Results\n",
    "---------------------------------------------------------------------------\n",
    "| Method                                          |  RMSE             | R2               |\n",
    "|-------------------------------------------------|-------------------|------------------|\n",
    "|1. Gradient Descent | 0.0005189242294533941 | 0.69390131959586 |\n",
    "|2. Normal Equations | 0.0005752830089194811 | 0.8729135062643165 |\n",
    "|3. Regularized Normal Equations | 0.0005568011591403914 | 0.8152166383458974 |\n",
    "|4. GLM | 0.0005752830089194832 | 0.8729135062643214 |\n",
    "|5. Decision Trees | 0.0006152545517427419 | 0.9166951417392453 |\n",
    "\n",
    "The best model can either be the decision tree random forest, which achieved the highest R2, or gradient descent, which achieved the lowest error. We choose the decision tree as the best model since it seems to explain the data better based on the plot results. Also, a higher correlation (R2) value seems more important in this case."
   ]
  },
  {
   "cell_type": "markdown",
   "metadata": {
    "id": "n_HoMbxTdnOO"
   },
   "source": [
    "## Finally, pick some car types for which your models over- and under-predicted sales. Attempt to determine the root causes. Write your findings below."
   ]
  },
  {
   "cell_type": "code",
   "execution_count": 89,
   "metadata": {},
   "outputs": [
    {
     "name": "stdout",
     "output_type": "stream",
     "text": [
      "11\n",
      "12\n",
      "Worst under-prediction: S85 by 0.07935053090712532 (normalized)\n",
      "Worst over-prediction: S85P by 0.07366069037947136 (normalized)\n"
     ]
    }
   ],
   "source": [
    "pred_rf_ex = np.expand_dims(pred_rf, axis=-1)\n",
    "worst_under_index = np.argmax(test_Y - pred_rf_ex)\n",
    "worst_over_index = np.argmin(test_Y - pred_rf_ex)\n",
    "worst_under_row = test_X[worst_under_index, :]\n",
    "worst_over_row = test_X[worst_over_index, :]\n",
    "match = np.where((df_full.values[:, :-1] == worst_under_row[:-1]).all(axis=1))[0]\n",
    "print(list(df_full.values[match[0], :]).index(1))\n",
    "match = np.where((df_full.values[:, :-1] == worst_over_row[:-1]).all(axis=1))[0]\n",
    "print(list(df_full.values[match[0], :]).index(1))\n",
    "print('Worst under-prediction: {0} by {1} (normalized)'.format('S85', test_Y[worst_under_index, 0] - pred_rf_ex[worst_under_index, 0]))\n",
    "print('Worst over-prediction: {0} by {1} (normalized)'.format('S85P', pred_rf_ex[worst_over_index, 0] - test_Y[worst_over_index, 0]))"
   ]
  },
  {
   "cell_type": "markdown",
   "metadata": {
    "id": "WddJkKQgdnOO"
   },
   "source": [
    "The worst under-prediction (where the model predicted far lower sales than the test data) was for the S85; the worst over-prediction (where the model predicted far higher sales than the test data) was for the S85P. One would expect that two cars with such similar names would share many features, but apparently the similarity was not strong enough for the cars to have similar predictions. One reason why the S85, an older car in comparison to the S85P, could be receiving under-predictions is because it would tend to have the worse engine and sales features, while the S85P--being the newer version of the S85--has better engine and sales features."
   ]
  },
  {
   "cell_type": "markdown",
   "metadata": {},
   "source": [
    "# Extra Credit"
   ]
  },
  {
   "cell_type": "markdown",
   "metadata": {},
   "source": [
    "## 1. Divide the training data into training and validation data."
   ]
  },
  {
   "cell_type": "code",
   "execution_count": 177,
   "metadata": {},
   "outputs": [
    {
     "name": "stdout",
     "output_type": "stream",
     "text": [
      "(46, 74)\n",
      "(20, 74)\n",
      "(46, 1)\n",
      "(20, 1)\n"
     ]
    }
   ],
   "source": [
    "from sklearn.model_selection import train_test_split\n",
    "from sklearn.metrics import r2_score\n",
    "hyper_train_X, hyper_val_X, hyper_train_Y, hyper_val_Y = train_test_split(\n",
    "    train_X, train_Y, train_size=0.7, random_state=52017)\n",
    "\n",
    "# Debugging: use the full training set for train, and the test set for val.\n",
    "# With this setting, you should be able to reproduce the results above, before hyperparameter tuning.\n",
    "#hyper_train_X, hyper_val_X, hyper_train_Y, hyper_val_Y = train_X, test_X, train_Y, test_Y\n",
    "print(hyper_train_X.shape)\n",
    "print(hyper_val_X.shape)\n",
    "print(hyper_train_Y.shape)\n",
    "print(hyper_val_Y.shape)"
   ]
  },
  {
   "cell_type": "markdown",
   "metadata": {},
   "source": [
    "## 2. Set a range for the hyperparameters."
   ]
  },
  {
   "cell_type": "code",
   "execution_count": 178,
   "metadata": {},
   "outputs": [],
   "source": [
    "# Model 1: Gradient descent.\n",
    "np.random.seed(52017)\n",
    "choices_s_theta = [np.zeros((train_X.shape[1] + 1, 1)), np.random.rand(train_X.shape[1] + 1, 1) - 0.5]\n",
    "choices_s_learning_rate = [0.0001, 0.0003, 0.001, 0.003, 0.01, 0.03, 0.1, 0.3]\n",
    "choices_s_max_iteration = [200, 400, 600, 800, 1000, 1200, 1400, 1600, 1800]\n",
    "# Model 2: Decision trees.\n",
    "choices_n_estimators = [20, 40, 60, 80, 100, 120, 140, 160, 180, 200]\n",
    "choices_max_depth = [5, 10, 15, 20, 25, 30, 35, 40, 45, 50, None]\n",
    "choices_max_features = ['auto', 'sqrt', 'log2']"
   ]
  },
  {
   "cell_type": "markdown",
   "metadata": {},
   "source": [
    "## 3. Loop through the hyperparameters to find which set minimizes error on validation data."
   ]
  },
  {
   "cell_type": "code",
   "execution_count": 179,
   "metadata": {},
   "outputs": [
    {
     "name": "stdout",
     "output_type": "stream",
     "text": [
      "RMSE, R2 using SGD= 0.001288983734659674 0.10214080602639289\n",
      "RMSE, R2 using SGD= 0.0012887818200353026 0.0709165653058051\n",
      "RMSE, R2 using SGD= 0.0013357115439680723 0.09031008582898349\n",
      "RMSE, R2 using SGD= 0.0013691103591233302 0.10628080112327179\n",
      "RMSE, R2 using SGD= 0.0013853812239853827 0.1145556256658311\n",
      "RMSE, R2 using SGD= 0.0013916251975526384 0.11850086832038163\n",
      "RMSE, R2 using SGD= 0.001394245428683443 0.12111892084427563\n",
      "RMSE, R2 using SGD= 0.0013965918056578984 0.12371656047556759\n",
      "RMSE, R2 using SGD= 0.0013998163856634872 0.12655685350881477\n",
      "RMSE, R2 using SGD= 0.0014010445622477737 0.12747730927032325\n",
      "RMSE, R2 using SGD= 0.0014035673068068214 0.12924554343818564\n",
      "RMSE, R2 using SGD= 0.0014073896438649013 0.13166788645472224\n",
      "RMSE, R2 using SGD= 0.0014122015897629402 0.13442740405772813\n",
      "RMSE, R2 using SGD= 0.0014173032410443535 0.13712616605465128\n",
      "RMSE, R2 using SGD= 0.0014218420915525383 0.1393883630206924\n",
      "RMSE, R2 using SGD= 0.0014251268226811117 0.14095622269241107\n",
      "RMSE, R2 using SGD= 0.001426806716019398 0.14173458437444517\n",
      "RMSE, R2 using SGD= 0.001426875806470266 0.14177601142942592\n",
      "RMSE, R2 using SGD= 0.0014266663909371484 0.141688957226656\n",
      "RMSE, R2 using SGD= 0.0014255317111145083 0.14127279764637826\n",
      "RMSE, R2 using SGD= 0.0014233397194758938 0.1403982504761338\n",
      "RMSE, R2 using SGD= 0.0014200040904576209 0.1390654522685649\n",
      "RMSE, R2 using SGD= 0.0014158060288775823 0.1374270857706137\n",
      "RMSE, R2 using SGD= 0.0014112750388873788 0.1357065887386066\n",
      "RMSE, R2 using SGD= 0.001406931461771525 0.13409867166902834\n",
      "RMSE, R2 using SGD= 0.0014031324744236697 0.13272280988933072\n",
      "RMSE, R2 using SGD= 0.0014000440100565056 0.1316246412547816\n",
      "RMSE, R2 using SGD= 0.001399110604855521 0.13146903678688435\n",
      "RMSE, R2 using SGD= 0.0013973531060200342 0.13094508517065676\n",
      "RMSE, R2 using SGD= 0.0013956785429839994 0.13035570543316316\n",
      "RMSE, R2 using SGD= 0.0013942560752212307 0.12985664995874044\n",
      "RMSE, R2 using SGD= 0.0013932381787447943 0.12950777545617917\n",
      "RMSE, R2 using SGD= 0.0013926175171818434 0.1292993506492182\n",
      "RMSE, R2 using SGD= 0.0013922922835918785 0.12919167114485658\n",
      "RMSE, R2 using SGD= 0.0013921449949283818 0.1291433438185538\n",
      "RMSE, R2 using SGD= 0.0013920871169954246 0.129124458928977\n",
      "RMSE, R2 using SGD= 0.001390296858189384 0.12950278363688456\n",
      "RMSE, R2 using SGD= 0.0013894698306148698 0.12914579118731978\n",
      "RMSE, R2 using SGD= 0.001389197403616557 0.1290390524566841\n",
      "RMSE, R2 using SGD= 0.001389144054077291 0.12902348013146067\n",
      "RMSE, R2 using SGD= 0.0013891385708917317 0.12902224416680258\n",
      "RMSE, R2 using SGD= 0.0013891383079513446 0.12902220275267806\n",
      "RMSE, R2 using SGD= 0.0013891383062505373 0.12902220387736762\n",
      "RMSE, R2 using SGD= 0.0013891383066575633 0.12902220404242057\n",
      "RMSE, R2 using SGD= 0.0013891383066783913 0.12902220404948186\n",
      "RMSE, R2 using SGD= 0.0013829763595489862 0.12971075159374965\n",
      "RMSE, R2 using SGD= 0.0013819878561703882 0.12941264707245126\n",
      "RMSE, R2 using SGD= 0.0013819582761584442 0.12940663034858346\n",
      "RMSE, R2 using SGD= 0.0013819581757552365 0.12940662394263228\n",
      "RMSE, R2 using SGD= 0.0013819581760423564 0.12940662407365217\n",
      "RMSE, R2 using SGD= 0.0013819581760429827 0.12940662407387926\n",
      "RMSE, R2 using SGD= 0.0013819581760429827 0.12940662407387926\n",
      "RMSE, R2 using SGD= 0.0013819581760429827 0.12940662407387926\n",
      "RMSE, R2 using SGD= 0.0013819581760429827 0.12940662407387926\n",
      "RMSE, R2 using SGD= 0.0013868815452770596 0.13723288059385857\n",
      "RMSE, R2 using SGD= 0.0013868334002511188 0.13722542197304163\n",
      "RMSE, R2 using SGD= 0.001386833400162457 0.13722542196248824\n",
      "RMSE, R2 using SGD= 0.001386833400162457 0.13722542196248824\n",
      "RMSE, R2 using SGD= 0.001386833400162457 0.13722542196248824\n",
      "RMSE, R2 using SGD= 0.001386833400162457 0.13722542196248824\n",
      "RMSE, R2 using SGD= 0.001386833400162457 0.13722542196248824\n",
      "RMSE, R2 using SGD= 0.001386833400162457 0.13722542196248824\n",
      "RMSE, R2 using SGD= 0.001386833400162457 0.13722542196248824\n",
      "RMSE, R2 using SGD= 0.0016015063581213637 0.27636378287885494\n",
      "RMSE, R2 using SGD= 0.0016015063583095985 0.2763637826972771\n",
      "RMSE, R2 using SGD= 0.0016015063583095985 0.2763637826972771\n",
      "RMSE, R2 using SGD= 0.0016015063583095985 0.2763637826972771\n",
      "RMSE, R2 using SGD= 0.0016015063583095985 0.2763637826972771\n",
      "RMSE, R2 using SGD= 0.0016015063583095985 0.2763637826972771\n",
      "RMSE, R2 using SGD= 0.0016015063583095985 0.2763637826972771\n",
      "RMSE, R2 using SGD= 0.0016015063583095985 0.2763637826972771\n",
      "RMSE, R2 using SGD= 0.0016015063583095985 0.2763637826972771\n",
      "RMSE, R2 using SGD= 0.10676599862085116 94.95777633004897\n",
      "RMSE, R2 using SGD= 0.0375900407521865 32.9007190206962\n",
      "RMSE, R2 using SGD= 0.020630181525960432 17.09600032222121\n",
      "RMSE, R2 using SGD= 0.013682297981233538 10.872016764643401\n",
      "RMSE, R2 using SGD= 0.01146360535463682 8.824249639912003\n",
      "RMSE, R2 using SGD= 0.010766257979521864 8.098621908184523\n",
      "RMSE, R2 using SGD= 0.010363064582264932 7.624305515215679\n",
      "RMSE, R2 using SGD= 0.010051347363039878 7.246818661148792\n",
      "RMSE, R2 using SGD= 0.009786028883799005 6.954624943053634\n",
      "RMSE, R2 using SGD= 0.009729596371431169 6.887338873831588\n",
      "RMSE, R2 using SGD= 0.00964499931667524 6.779414647520226\n",
      "RMSE, R2 using SGD= 0.009591896441040226 6.685110197027558\n",
      "RMSE, R2 using SGD= 0.009623006494269736 6.654280976444472\n",
      "RMSE, R2 using SGD= 0.009782198526491988 6.7330377790985665\n",
      "RMSE, R2 using SGD= 0.01007825952678375 6.931795347479912\n",
      "RMSE, R2 using SGD= 0.010491153683312172 7.23375526445564\n",
      "RMSE, R2 using SGD= 0.010983775363648083 7.603511725238566\n",
      "RMSE, R2 using SGD= 0.011464755132356352 7.994200699302288\n",
      "RMSE, R2 using SGD= 0.011635126132824133 8.133461573129972\n",
      "RMSE, R2 using SGD= 0.011944675142852123 8.387937273620112\n",
      "RMSE, R2 using SGD= 0.012344439305361702 8.71987675525545\n",
      "RMSE, R2 using SGD= 0.0127378505487069 9.06940881264575\n",
      "RMSE, R2 using SGD= 0.013098190262212827 9.370312910507952\n",
      "RMSE, R2 using SGD= 0.013388144518504456 9.602201910766496\n",
      "RMSE, R2 using SGD= 0.013591328878374994 9.762338343052075\n",
      "RMSE, R2 using SGD= 0.013715229553696386 9.858695546182368\n",
      "RMSE, R2 using SGD= 0.013780550303570688 9.908362552145771\n",
      "RMSE, R2 using SGD= 0.013794748874328758 9.919304715725634\n",
      "RMSE, R2 using SGD= 0.013810108838526772 9.930598424349443\n",
      "RMSE, R2 using SGD= 0.013820151839466258 9.937189013632976\n",
      "RMSE, R2 using SGD= 0.013822946354804655 9.938103158017475\n",
      "RMSE, R2 using SGD= 0.013821524499442206 9.935995311189147\n",
      "RMSE, R2 using SGD= 0.013819240875583122 9.933572247256773\n",
      "RMSE, R2 using SGD= 0.01381761739728428 9.93196169379099\n",
      "RMSE, R2 using SGD= 0.013816787476999751 9.931157579434041\n",
      "RMSE, R2 using SGD= 0.013816446152784895 9.930829957450722\n",
      "RMSE, R2 using SGD= 0.013822154160629577 9.937193746623617\n",
      "RMSE, R2 using SGD= 0.013822348048413636 9.937215917921316\n",
      "RMSE, R2 using SGD= 0.013822204366160004 9.937017147462052\n",
      "RMSE, R2 using SGD= 0.01382214469186733 9.936955633356263\n",
      "RMSE, R2 using SGD= 0.013822135223648072 9.936946600483619\n",
      "RMSE, R2 using SGD= 0.013822134257863527 9.936945692731951\n",
      "RMSE, R2 using SGD= 0.013822134185735285 9.936945624626034\n",
      "RMSE, R2 using SGD= 0.013822134182017737 9.936945621098443\n",
      "RMSE, R2 using SGD= 0.013822134181891741 9.936945620978594\n",
      "RMSE, R2 using SGD= 0.013823450273646648 9.940681195093688\n",
      "RMSE, R2 using SGD= 0.013822701636904253 9.93986089009714\n",
      "RMSE, R2 using SGD= 0.013822675332548542 9.939836477643755\n",
      "RMSE, R2 using SGD= 0.013822675064605874 9.939836234036449\n",
      "RMSE, R2 using SGD= 0.013822675063255704 9.93983623277916\n",
      "RMSE, R2 using SGD= 0.013822675063253817 9.939836232777395\n",
      "RMSE, R2 using SGD= 0.013822675063253817 9.939836232777395\n",
      "RMSE, R2 using SGD= 0.013822675063253817 9.939836232777395\n",
      "RMSE, R2 using SGD= 0.013822675063253817 9.939836232777395\n",
      "RMSE, R2 using SGD= 0.013612243060443332 9.738872445259858\n",
      "RMSE, R2 using SGD= 0.01361222882480051 9.738860120289994\n",
      "RMSE, R2 using SGD= 0.013612228824822745 9.73886012031793\n",
      "RMSE, R2 using SGD= 0.013612228824822745 9.73886012031793\n",
      "RMSE, R2 using SGD= 0.013612228824822745 9.73886012031793\n",
      "RMSE, R2 using SGD= 0.013612228824822745 9.73886012031793\n",
      "RMSE, R2 using SGD= 0.013612228824822745 9.73886012031793\n",
      "RMSE, R2 using SGD= 0.013612228824822745 9.73886012031793\n",
      "RMSE, R2 using SGD= 0.013612228824822745 9.73886012031793\n",
      "RMSE, R2 using SGD= 0.013381818860491982 9.40891936083302\n",
      "RMSE, R2 using SGD= 0.013381818862654493 9.408919362417725\n"
     ]
    },
    {
     "name": "stdout",
     "output_type": "stream",
     "text": [
      "RMSE, R2 using SGD= 0.013381818862654493 9.408919362417723\n",
      "RMSE, R2 using SGD= 0.013381818862654493 9.408919362417723\n",
      "RMSE, R2 using SGD= 0.013381818862654493 9.408919362417723\n",
      "RMSE, R2 using SGD= 0.013381818862654493 9.408919362417723\n",
      "RMSE, R2 using SGD= 0.013381818862654493 9.408919362417723\n",
      "RMSE, R2 using SGD= 0.013381818862654493 9.408919362417723\n",
      "RMSE, R2 using SGD= 0.013381818862654493 9.408919362417723\n",
      "Min hyperparameters:\n",
      "\ttheta: zeros\n",
      "\tlearning rate: 0.0001\n",
      "\tmax iterations: 400\n",
      "Min val error: 0.0012887818200353026\n"
     ]
    }
   ],
   "source": [
    "# Model 1: Gradient descent.\n",
    "gd_val_errors = np.zeros((len(choices_s_theta), len(choices_s_learning_rate), len(choices_s_max_iteration)))\n",
    "for i, choice_s_theta in enumerate(choices_s_theta):\n",
    "    for j, choice_s_learning_rate in enumerate(choices_s_learning_rate):\n",
    "        for k, choice_s_max_iteration in enumerate(choices_s_max_iteration):\n",
    "            choice_s_theta, choice_s_cost = stochastic_gradient_descent(\n",
    "                choice_s_theta, hyper_train_X, hyper_train_Y, choice_s_learning_rate, choice_s_max_iteration,\n",
    "                100, verbose=False)\n",
    "            GD_P = h(choice_s_theta, hyper_val_X)\n",
    "            # Set any negative predictions to 0\n",
    "            GD_P[GD_P < 0] = 0\n",
    "            assert (GD_P >= 0).all() and (~np.isnan(GD_P)).all()\n",
    "            mse = MSE(hyper_val_Y, GD_P)\n",
    "            rsquared = r2(hyper_val_Y, GD_P)\n",
    "            print(\"RMSE, R2 using SGD=\", mse, rsquared)\n",
    "            gd_val_errors[i, j, k] = mse\n",
    "min_i_gd, min_j_gd, min_k_gd = np.unravel_index(gd_val_errors.argmin(), gd_val_errors.shape)\n",
    "print('Min hyperparameters:\\n\\ttheta: {0}\\n\\tlearning rate: {1}\\n\\tmax iterations: {2}'.format(\n",
    "    'zeros' if min_i_gd == 0 else 'random', choices_s_learning_rate[min_j_gd], choices_s_max_iteration[min_k_gd]))\n",
    "print('Min val error: {0}'.format(gd_val_errors[min_i_gd, min_j_gd, min_k_gd]))"
   ]
  },
  {
   "cell_type": "code",
   "execution_count": 180,
   "metadata": {},
   "outputs": [
    {
     "name": "stdout",
     "output_type": "stream",
     "text": [
      "RMSE, R2 for Decision Trees= 0.0014458571144637354 0.2101387109111986\n",
      "RMSE, R2 for Decision Trees= 0.001253545357781902 0.08578843986513478\n",
      "RMSE, R2 for Decision Trees= 0.0011772937760848264 0.05991349243551842\n",
      "RMSE, R2 for Decision Trees= 0.0014600161558794577 0.19996040787527453\n",
      "RMSE, R2 for Decision Trees= 0.0013618219395763198 0.11421390353224306\n",
      "RMSE, R2 for Decision Trees= 0.0012060838027930102 0.09757415575458463\n",
      "RMSE, R2 for Decision Trees= 0.001469526579670565 0.20170471975099374\n",
      "RMSE, R2 for Decision Trees= 0.0013328851101604999 0.12585132944784877\n",
      "RMSE, R2 for Decision Trees= 0.0012675229792904249 0.09530440452071995\n",
      "RMSE, R2 for Decision Trees= 0.0014695197121597815 0.20158670786356447\n",
      "RMSE, R2 for Decision Trees= 0.0013377231460384473 0.12869982287252127\n",
      "RMSE, R2 for Decision Trees= 0.001259587028029969 0.09494754122136115\n",
      "RMSE, R2 for Decision Trees= 0.0014695197121597815 0.20158670786356447\n",
      "RMSE, R2 for Decision Trees= 0.0013377231460384473 0.12869982287252127\n",
      "RMSE, R2 for Decision Trees= 0.001259587028029969 0.09494754122136115\n",
      "RMSE, R2 for Decision Trees= 0.0014695197121597815 0.20158670786356447\n",
      "RMSE, R2 for Decision Trees= 0.0013377231460384473 0.12869982287252127\n",
      "RMSE, R2 for Decision Trees= 0.001259587028029969 0.09494754122136115\n",
      "RMSE, R2 for Decision Trees= 0.0014695197121597815 0.20158670786356447\n",
      "RMSE, R2 for Decision Trees= 0.0013377231460384473 0.12869982287252127\n",
      "RMSE, R2 for Decision Trees= 0.001259587028029969 0.09494754122136115\n",
      "RMSE, R2 for Decision Trees= 0.0014695197121597815 0.20158670786356447\n",
      "RMSE, R2 for Decision Trees= 0.0013377231460384473 0.12869982287252127\n",
      "RMSE, R2 for Decision Trees= 0.001259587028029969 0.09494754122136115\n",
      "RMSE, R2 for Decision Trees= 0.0014695197121597815 0.20158670786356447\n",
      "RMSE, R2 for Decision Trees= 0.0013377231460384473 0.12869982287252127\n",
      "RMSE, R2 for Decision Trees= 0.001259587028029969 0.09494754122136115\n",
      "RMSE, R2 for Decision Trees= 0.0014695197121597815 0.20158670786356447\n",
      "RMSE, R2 for Decision Trees= 0.0013377231460384473 0.12869982287252127\n",
      "RMSE, R2 for Decision Trees= 0.001259587028029969 0.09494754122136115\n",
      "RMSE, R2 for Decision Trees= 0.0014695197121597815 0.20158670786356447\n",
      "RMSE, R2 for Decision Trees= 0.0013377231460384473 0.12869982287252127\n",
      "RMSE, R2 for Decision Trees= 0.001259587028029969 0.09494754122136115\n",
      "RMSE, R2 for Decision Trees= 0.0014143699291888248 0.19768086560132186\n",
      "RMSE, R2 for Decision Trees= 0.001256502099122128 0.08398207262344787\n",
      "RMSE, R2 for Decision Trees= 0.0012079243563027646 0.06626558630792351\n",
      "RMSE, R2 for Decision Trees= 0.0014448100420882506 0.1905949589396309\n",
      "RMSE, R2 for Decision Trees= 0.0013306364900207274 0.11940784178290409\n",
      "RMSE, R2 for Decision Trees= 0.0012503627480930527 0.09367156105875689\n",
      "RMSE, R2 for Decision Trees= 0.0014451959239773452 0.19038581482920838\n",
      "RMSE, R2 for Decision Trees= 0.0013296350626767223 0.11951530221274644\n",
      "RMSE, R2 for Decision Trees= 0.001286062421536018 0.09697729039261584\n",
      "RMSE, R2 for Decision Trees= 0.0014473382263222546 0.1906350358386182\n",
      "RMSE, R2 for Decision Trees= 0.001331350594152096 0.11958830854306832\n",
      "RMSE, R2 for Decision Trees= 0.0012770693619029373 0.09502283157842145\n",
      "RMSE, R2 for Decision Trees= 0.0014473382263222546 0.1906350358386182\n",
      "RMSE, R2 for Decision Trees= 0.001331350594152096 0.11958830854306832\n",
      "RMSE, R2 for Decision Trees= 0.0012785909399913452 0.09563624636849137\n",
      "RMSE, R2 for Decision Trees= 0.0014473382263222546 0.1906350358386182\n",
      "RMSE, R2 for Decision Trees= 0.001331350594152096 0.11958830854306832\n",
      "RMSE, R2 for Decision Trees= 0.0012785909399913452 0.09563624636849137\n",
      "RMSE, R2 for Decision Trees= 0.0014473382263222546 0.1906350358386182\n",
      "RMSE, R2 for Decision Trees= 0.001331350594152096 0.11958830854306832\n",
      "RMSE, R2 for Decision Trees= 0.0012785909399913452 0.09563624636849137\n",
      "RMSE, R2 for Decision Trees= 0.0014473382263222546 0.1906350358386182\n",
      "RMSE, R2 for Decision Trees= 0.001331350594152096 0.11958830854306832\n",
      "RMSE, R2 for Decision Trees= 0.0012785909399913452 0.09563624636849137\n",
      "RMSE, R2 for Decision Trees= 0.0014473382263222546 0.1906350358386182\n",
      "RMSE, R2 for Decision Trees= 0.001331350594152096 0.11958830854306832\n",
      "RMSE, R2 for Decision Trees= 0.0012785909399913452 0.09563624636849137\n",
      "RMSE, R2 for Decision Trees= 0.0014473382263222546 0.1906350358386182\n",
      "RMSE, R2 for Decision Trees= 0.001331350594152096 0.11958830854306832\n",
      "RMSE, R2 for Decision Trees= 0.0012785909399913452 0.09563624636849137\n",
      "RMSE, R2 for Decision Trees= 0.0014473382263222546 0.1906350358386182\n",
      "RMSE, R2 for Decision Trees= 0.001331350594152096 0.11958830854306832\n",
      "RMSE, R2 for Decision Trees= 0.0012785909399913452 0.09563624636849137\n",
      "RMSE, R2 for Decision Trees= 0.001411229322352792 0.19582301741724556\n",
      "RMSE, R2 for Decision Trees= 0.0012561327327849903 0.08799567217045447\n",
      "RMSE, R2 for Decision Trees= 0.0012192128074168605 0.06730786654497442\n",
      "RMSE, R2 for Decision Trees= 0.0014434136418667418 0.19413990472723444\n",
      "RMSE, R2 for Decision Trees= 0.0013115413170841565 0.11821179742776836\n",
      "RMSE, R2 for Decision Trees= 0.0012638916336669978 0.1043284486441566\n",
      "RMSE, R2 for Decision Trees= 0.0014451732375721205 0.19369973828631853\n",
      "RMSE, R2 for Decision Trees= 0.0012983031829765534 0.11682466310419659\n",
      "RMSE, R2 for Decision Trees= 0.0012890216115865947 0.09656583125150973\n",
      "RMSE, R2 for Decision Trees= 0.0014466273381482607 0.19388875852579507\n",
      "RMSE, R2 for Decision Trees= 0.0013045506209316445 0.11492724245276707\n",
      "RMSE, R2 for Decision Trees= 0.0012894961598348676 0.09589057005797273\n",
      "RMSE, R2 for Decision Trees= 0.0014466273381482607 0.19388875852579507\n",
      "RMSE, R2 for Decision Trees= 0.0013045506209316445 0.11492724245276707\n",
      "RMSE, R2 for Decision Trees= 0.001290832770832536 0.09658408911706065\n",
      "RMSE, R2 for Decision Trees= 0.0014466273381482607 0.19388875852579507\n",
      "RMSE, R2 for Decision Trees= 0.0013045506209316445 0.11492724245276707\n",
      "RMSE, R2 for Decision Trees= 0.001290832770832536 0.09658408911706065\n",
      "RMSE, R2 for Decision Trees= 0.0014466273381482607 0.19388875852579507\n",
      "RMSE, R2 for Decision Trees= 0.0013045506209316445 0.11492724245276707\n",
      "RMSE, R2 for Decision Trees= 0.001290832770832536 0.09658408911706065\n",
      "RMSE, R2 for Decision Trees= 0.0014466273381482607 0.19388875852579507\n",
      "RMSE, R2 for Decision Trees= 0.0013045506209316445 0.11492724245276707\n",
      "RMSE, R2 for Decision Trees= 0.001290832770832536 0.09658408911706065\n",
      "RMSE, R2 for Decision Trees= 0.0014466273381482607 0.19388875852579507\n",
      "RMSE, R2 for Decision Trees= 0.0013045506209316445 0.11492724245276707\n",
      "RMSE, R2 for Decision Trees= 0.001290832770832536 0.09658408911706065\n",
      "RMSE, R2 for Decision Trees= 0.0014466273381482607 0.19388875852579507\n",
      "RMSE, R2 for Decision Trees= 0.0013045506209316445 0.11492724245276707\n",
      "RMSE, R2 for Decision Trees= 0.001290832770832536 0.09658408911706065\n",
      "RMSE, R2 for Decision Trees= 0.0014466273381482607 0.19388875852579507\n",
      "RMSE, R2 for Decision Trees= 0.0013045506209316445 0.11492724245276707\n",
      "RMSE, R2 for Decision Trees= 0.001290832770832536 0.09658408911706065\n",
      "RMSE, R2 for Decision Trees= 0.0013960005591935711 0.18584497077889714\n",
      "RMSE, R2 for Decision Trees= 0.0012713475514024419 0.09199636847181031\n",
      "RMSE, R2 for Decision Trees= 0.0012323424777541416 0.06834449432333584\n",
      "RMSE, R2 for Decision Trees= 0.0014258594006536667 0.18239810777500334\n",
      "RMSE, R2 for Decision Trees= 0.0013209011049079233 0.1165516319758912\n",
      "RMSE, R2 for Decision Trees= 0.0012591235421843309 0.09972989929167567\n",
      "RMSE, R2 for Decision Trees= 0.0014281265888402383 0.18448103063569807\n",
      "RMSE, R2 for Decision Trees= 0.0013213211512000675 0.11653280811775575\n",
      "RMSE, R2 for Decision Trees= 0.001304603384910306 0.10087907924751688\n",
      "RMSE, R2 for Decision Trees= 0.0014293090761119957 0.18431797431434482\n",
      "RMSE, R2 for Decision Trees= 0.0013276162035553319 0.11634783898708463\n",
      "RMSE, R2 for Decision Trees= 0.001300687084118701 0.09927272743915455\n",
      "RMSE, R2 for Decision Trees= 0.0014293090761119957 0.18431797431434482\n",
      "RMSE, R2 for Decision Trees= 0.0013276162035553319 0.11634783898708463\n",
      "RMSE, R2 for Decision Trees= 0.0013016354477654157 0.09974509269626029\n",
      "RMSE, R2 for Decision Trees= 0.0014293090761119957 0.18431797431434482\n",
      "RMSE, R2 for Decision Trees= 0.0013276162035553319 0.11634783898708463\n",
      "RMSE, R2 for Decision Trees= 0.0013016354477654157 0.09974509269626029\n"
     ]
    },
    {
     "name": "stdout",
     "output_type": "stream",
     "text": [
      "RMSE, R2 for Decision Trees= 0.0014293090761119957 0.18431797431434482\n",
      "RMSE, R2 for Decision Trees= 0.0013276162035553319 0.11634783898708463\n",
      "RMSE, R2 for Decision Trees= 0.0013016354477654157 0.09974509269626029\n",
      "RMSE, R2 for Decision Trees= 0.0014293090761119957 0.18431797431434482\n",
      "RMSE, R2 for Decision Trees= 0.0013276162035553319 0.11634783898708463\n",
      "RMSE, R2 for Decision Trees= 0.0013016354477654157 0.09974509269626029\n",
      "RMSE, R2 for Decision Trees= 0.0014293090761119957 0.18431797431434482\n",
      "RMSE, R2 for Decision Trees= 0.0013276162035553319 0.11634783898708463\n",
      "RMSE, R2 for Decision Trees= 0.0013016354477654157 0.09974509269626029\n",
      "RMSE, R2 for Decision Trees= 0.0014293090761119957 0.18431797431434482\n",
      "RMSE, R2 for Decision Trees= 0.0013276162035553319 0.11634783898708463\n",
      "RMSE, R2 for Decision Trees= 0.0013016354477654157 0.09974509269626029\n",
      "RMSE, R2 for Decision Trees= 0.0014293090761119957 0.18431797431434482\n",
      "RMSE, R2 for Decision Trees= 0.0013276162035553319 0.11634783898708463\n",
      "RMSE, R2 for Decision Trees= 0.0013016354477654157 0.09974509269626029\n",
      "RMSE, R2 for Decision Trees= 0.0014003036167322797 0.18133593721737254\n",
      "RMSE, R2 for Decision Trees= 0.0012514791575564852 0.08718193065662769\n",
      "RMSE, R2 for Decision Trees= 0.0012339637874465852 0.07153974205938451\n",
      "RMSE, R2 for Decision Trees= 0.0014272533650125654 0.17798992238962144\n",
      "RMSE, R2 for Decision Trees= 0.0013256808091392158 0.11417290593901142\n",
      "RMSE, R2 for Decision Trees= 0.00125857244333127 0.0994891546786361\n",
      "RMSE, R2 for Decision Trees= 0.00143085844391354 0.17959378901200204\n",
      "RMSE, R2 for Decision Trees= 0.0013148235250089696 0.11366616475736781\n",
      "RMSE, R2 for Decision Trees= 0.0012968179152415824 0.10189445730490714\n",
      "RMSE, R2 for Decision Trees= 0.0014314504211831627 0.17975910572170445\n",
      "RMSE, R2 for Decision Trees= 0.0013175007778707777 0.1135877289079265\n",
      "RMSE, R2 for Decision Trees= 0.001294333389618471 0.100734581928798\n",
      "RMSE, R2 for Decision Trees= 0.0014314504211831627 0.17975910572170445\n",
      "RMSE, R2 for Decision Trees= 0.0013175007778707777 0.1135877289079265\n",
      "RMSE, R2 for Decision Trees= 0.0012950529016700603 0.10107787303680156\n",
      "RMSE, R2 for Decision Trees= 0.0014314504211831627 0.17975910572170445\n",
      "RMSE, R2 for Decision Trees= 0.0013175007778707777 0.1135877289079265\n",
      "RMSE, R2 for Decision Trees= 0.0012950529016700603 0.10107787303680156\n",
      "RMSE, R2 for Decision Trees= 0.0014314504211831627 0.17975910572170445\n",
      "RMSE, R2 for Decision Trees= 0.0013175007778707777 0.1135877289079265\n",
      "RMSE, R2 for Decision Trees= 0.0012950529016700603 0.10107787303680156\n",
      "RMSE, R2 for Decision Trees= 0.0014314504211831627 0.17975910572170445\n",
      "RMSE, R2 for Decision Trees= 0.0013175007778707777 0.1135877289079265\n",
      "RMSE, R2 for Decision Trees= 0.0012950529016700603 0.10107787303680156\n",
      "RMSE, R2 for Decision Trees= 0.0014314504211831627 0.17975910572170445\n",
      "RMSE, R2 for Decision Trees= 0.0013175007778707777 0.1135877289079265\n",
      "RMSE, R2 for Decision Trees= 0.0012950529016700603 0.10107787303680156\n",
      "RMSE, R2 for Decision Trees= 0.0014314504211831627 0.17975910572170445\n",
      "RMSE, R2 for Decision Trees= 0.0013175007778707777 0.1135877289079265\n",
      "RMSE, R2 for Decision Trees= 0.0012950529016700603 0.10107787303680156\n",
      "RMSE, R2 for Decision Trees= 0.0014314504211831627 0.17975910572170445\n",
      "RMSE, R2 for Decision Trees= 0.0013175007778707777 0.1135877289079265\n",
      "RMSE, R2 for Decision Trees= 0.0012950529016700603 0.10107787303680156\n",
      "RMSE, R2 for Decision Trees= 0.001380303569204458 0.17353311048991768\n",
      "RMSE, R2 for Decision Trees= 0.0012379706039406723 0.08275884489989879\n",
      "RMSE, R2 for Decision Trees= 0.0012342425663852132 0.0707765390372038\n",
      "RMSE, R2 for Decision Trees= 0.001412501496412605 0.17292608515764904\n",
      "RMSE, R2 for Decision Trees= 0.0013169998235160354 0.11260959819348099\n",
      "RMSE, R2 for Decision Trees= 0.001258071602630877 0.09883749466487261\n",
      "RMSE, R2 for Decision Trees= 0.0014134707515000553 0.1742055959736752\n",
      "RMSE, R2 for Decision Trees= 0.0013099873877208798 0.11280910406373829\n",
      "RMSE, R2 for Decision Trees= 0.0012942652621922895 0.10056088483343485\n",
      "RMSE, R2 for Decision Trees= 0.0014139644238192139 0.1743436760049486\n",
      "RMSE, R2 for Decision Trees= 0.001313063569453285 0.1126567990625033\n",
      "RMSE, R2 for Decision Trees= 0.0012858883401723896 0.09936526790991089\n",
      "RMSE, R2 for Decision Trees= 0.0014139644238192139 0.1743436760049486\n",
      "RMSE, R2 for Decision Trees= 0.001313063569453285 0.1126567990625033\n",
      "RMSE, R2 for Decision Trees= 0.0012865090183195288 0.09966996500055156\n",
      "RMSE, R2 for Decision Trees= 0.0014139644238192139 0.1743436760049486\n",
      "RMSE, R2 for Decision Trees= 0.001313063569453285 0.1126567990625033\n",
      "RMSE, R2 for Decision Trees= 0.0012865090183195288 0.09966996500055156\n",
      "RMSE, R2 for Decision Trees= 0.0014139644238192139 0.1743436760049486\n",
      "RMSE, R2 for Decision Trees= 0.001313063569453285 0.1126567990625033\n",
      "RMSE, R2 for Decision Trees= 0.0012865090183195288 0.09966996500055156\n",
      "RMSE, R2 for Decision Trees= 0.0014139644238192139 0.1743436760049486\n",
      "RMSE, R2 for Decision Trees= 0.001313063569453285 0.1126567990625033\n",
      "RMSE, R2 for Decision Trees= 0.0012865090183195288 0.09966996500055156\n",
      "RMSE, R2 for Decision Trees= 0.0014139644238192139 0.1743436760049486\n",
      "RMSE, R2 for Decision Trees= 0.001313063569453285 0.1126567990625033\n",
      "RMSE, R2 for Decision Trees= 0.0012865090183195288 0.09966996500055156\n",
      "RMSE, R2 for Decision Trees= 0.0014139644238192139 0.1743436760049486\n",
      "RMSE, R2 for Decision Trees= 0.001313063569453285 0.1126567990625033\n",
      "RMSE, R2 for Decision Trees= 0.0012865090183195288 0.09966996500055156\n",
      "RMSE, R2 for Decision Trees= 0.0014139644238192139 0.1743436760049486\n",
      "RMSE, R2 for Decision Trees= 0.001313063569453285 0.1126567990625033\n",
      "RMSE, R2 for Decision Trees= 0.0012865090183195288 0.09966996500055156\n",
      "RMSE, R2 for Decision Trees= 0.0013825642347394295 0.17467297720023686\n",
      "RMSE, R2 for Decision Trees= 0.0012388399090493905 0.08119491981585902\n",
      "RMSE, R2 for Decision Trees= 0.0012425355516448653 0.07211586326680836\n",
      "RMSE, R2 for Decision Trees= 0.001413532514223241 0.1744261421229541\n",
      "RMSE, R2 for Decision Trees= 0.0013187303212203935 0.10845496578317178\n",
      "RMSE, R2 for Decision Trees= 0.0012677235677339 0.09803785991170857\n",
      "RMSE, R2 for Decision Trees= 0.0014193203761573197 0.17852692609320756\n",
      "RMSE, R2 for Decision Trees= 0.0013217396798981796 0.11059469590246473\n",
      "RMSE, R2 for Decision Trees= 0.0012986948558457113 0.10347932906950229\n",
      "RMSE, R2 for Decision Trees= 0.0014197408516411678 0.17864292041688828\n",
      "RMSE, R2 for Decision Trees= 0.001327990136413031 0.11290333756160481\n",
      "RMSE, R2 for Decision Trees= 0.0012914424539620958 0.10260100677356754\n",
      "RMSE, R2 for Decision Trees= 0.0014197408516411678 0.17864292041688828\n",
      "RMSE, R2 for Decision Trees= 0.001327990136413031 0.11290333756160481\n",
      "RMSE, R2 for Decision Trees= 0.0012920078640786025 0.1028916734029603\n",
      "RMSE, R2 for Decision Trees= 0.0014197408516411678 0.17864292041688828\n",
      "RMSE, R2 for Decision Trees= 0.001327990136413031 0.11290333756160481\n",
      "RMSE, R2 for Decision Trees= 0.0012920078640786025 0.1028916734029603\n",
      "RMSE, R2 for Decision Trees= 0.0014197408516411678 0.17864292041688828\n",
      "RMSE, R2 for Decision Trees= 0.001327990136413031 0.11290333756160481\n",
      "RMSE, R2 for Decision Trees= 0.0012920078640786025 0.1028916734029603\n",
      "RMSE, R2 for Decision Trees= 0.0014197408516411678 0.17864292041688828\n",
      "RMSE, R2 for Decision Trees= 0.001327990136413031 0.11290333756160481\n",
      "RMSE, R2 for Decision Trees= 0.0012920078640786025 0.1028916734029603\n",
      "RMSE, R2 for Decision Trees= 0.0014197408516411678 0.17864292041688828\n",
      "RMSE, R2 for Decision Trees= 0.001327990136413031 0.11290333756160481\n",
      "RMSE, R2 for Decision Trees= 0.0012920078640786025 0.1028916734029603\n",
      "RMSE, R2 for Decision Trees= 0.0014197408516411678 0.17864292041688828\n",
      "RMSE, R2 for Decision Trees= 0.001327990136413031 0.11290333756160481\n",
      "RMSE, R2 for Decision Trees= 0.0012920078640786025 0.1028916734029603\n",
      "RMSE, R2 for Decision Trees= 0.0014197408516411678 0.17864292041688828\n",
      "RMSE, R2 for Decision Trees= 0.001327990136413031 0.11290333756160481\n",
      "RMSE, R2 for Decision Trees= 0.0012920078640786025 0.1028916734029603\n",
      "RMSE, R2 for Decision Trees= 0.001385097930035631 0.1757302712308884\n",
      "RMSE, R2 for Decision Trees= 0.0012486320063981701 0.0825665296627161\n",
      "RMSE, R2 for Decision Trees= 0.0012407475758243864 0.0713282517116015\n",
      "RMSE, R2 for Decision Trees= 0.0014154270987954468 0.17404535023802478\n"
     ]
    },
    {
     "name": "stdout",
     "output_type": "stream",
     "text": [
      "RMSE, R2 for Decision Trees= 0.0013192351977083018 0.10869450960164935\n",
      "RMSE, R2 for Decision Trees= 0.0012770144641381274 0.0981372572326912\n",
      "RMSE, R2 for Decision Trees= 0.0014234745276420744 0.17817767205570745\n",
      "RMSE, R2 for Decision Trees= 0.0013210067269428323 0.11120508478536333\n",
      "RMSE, R2 for Decision Trees= 0.0012946942136690988 0.10320097364954432\n",
      "RMSE, R2 for Decision Trees= 0.0014238358050614193 0.17827330413586176\n",
      "RMSE, R2 for Decision Trees= 0.0013293959391819591 0.11275173851255435\n",
      "RMSE, R2 for Decision Trees= 0.0012908755223514908 0.10231594822399144\n",
      "RMSE, R2 for Decision Trees= 0.0014238358050614193 0.17827330413586176\n",
      "RMSE, R2 for Decision Trees= 0.0013293959391819591 0.11275173851255435\n",
      "RMSE, R2 for Decision Trees= 0.001291371907458733 0.1025717398427278\n",
      "RMSE, R2 for Decision Trees= 0.0014238358050614193 0.17827330413586176\n",
      "RMSE, R2 for Decision Trees= 0.0013293959391819591 0.11275173851255435\n",
      "RMSE, R2 for Decision Trees= 0.001291371907458733 0.1025717398427278\n",
      "RMSE, R2 for Decision Trees= 0.0014238358050614193 0.17827330413586176\n",
      "RMSE, R2 for Decision Trees= 0.0013293959391819591 0.11275173851255435\n",
      "RMSE, R2 for Decision Trees= 0.001291371907458733 0.1025717398427278\n",
      "RMSE, R2 for Decision Trees= 0.0014238358050614193 0.17827330413586176\n",
      "RMSE, R2 for Decision Trees= 0.0013293959391819591 0.11275173851255435\n",
      "RMSE, R2 for Decision Trees= 0.001291371907458733 0.1025717398427278\n",
      "RMSE, R2 for Decision Trees= 0.0014238358050614193 0.17827330413586176\n",
      "RMSE, R2 for Decision Trees= 0.0013293959391819591 0.11275173851255435\n",
      "RMSE, R2 for Decision Trees= 0.001291371907458733 0.1025717398427278\n",
      "RMSE, R2 for Decision Trees= 0.0014238358050614193 0.17827330413586176\n",
      "RMSE, R2 for Decision Trees= 0.0013293959391819591 0.11275173851255435\n",
      "RMSE, R2 for Decision Trees= 0.001291371907458733 0.1025717398427278\n",
      "RMSE, R2 for Decision Trees= 0.0014238358050614193 0.17827330413586176\n",
      "RMSE, R2 for Decision Trees= 0.0013293959391819591 0.11275173851255435\n",
      "RMSE, R2 for Decision Trees= 0.001291371907458733 0.1025717398427278\n",
      "RMSE, R2 for Decision Trees= 0.0013859642377197243 0.17648694337274018\n",
      "RMSE, R2 for Decision Trees= 0.0012450862157876324 0.0810776458488577\n",
      "RMSE, R2 for Decision Trees= 0.0012368559201231385 0.06889093190308997\n",
      "RMSE, R2 for Decision Trees= 0.001421536506299644 0.17726186600889957\n",
      "RMSE, R2 for Decision Trees= 0.0013142069664624314 0.10489732523080661\n",
      "RMSE, R2 for Decision Trees= 0.0012618306427610569 0.09715915177582077\n",
      "RMSE, R2 for Decision Trees= 0.0014300977082253004 0.18190825303506855\n",
      "RMSE, R2 for Decision Trees= 0.001325990880828013 0.10921293381968791\n",
      "RMSE, R2 for Decision Trees= 0.00128323438023605 0.10080949437261238\n",
      "RMSE, R2 for Decision Trees= 0.0014304253751806857 0.18199902764468784\n",
      "RMSE, R2 for Decision Trees= 0.0013332845340653442 0.1104434077768324\n",
      "RMSE, R2 for Decision Trees= 0.0012850797809911961 0.10140470971980807\n",
      "RMSE, R2 for Decision Trees= 0.0014304253751806857 0.18199902764468784\n",
      "RMSE, R2 for Decision Trees= 0.0013332845340653442 0.1104434077768324\n",
      "RMSE, R2 for Decision Trees= 0.001285529409172133 0.10163949589612045\n",
      "RMSE, R2 for Decision Trees= 0.0014304253751806857 0.18199902764468784\n",
      "RMSE, R2 for Decision Trees= 0.0013332845340653442 0.1104434077768324\n",
      "RMSE, R2 for Decision Trees= 0.001285529409172133 0.10163949589612045\n",
      "RMSE, R2 for Decision Trees= 0.0014304253751806857 0.18199902764468784\n",
      "RMSE, R2 for Decision Trees= 0.0013332845340653442 0.1104434077768324\n",
      "RMSE, R2 for Decision Trees= 0.001285529409172133 0.10163949589612045\n",
      "RMSE, R2 for Decision Trees= 0.0014304253751806857 0.18199902764468784\n",
      "RMSE, R2 for Decision Trees= 0.0013332845340653442 0.1104434077768324\n",
      "RMSE, R2 for Decision Trees= 0.001285529409172133 0.10163949589612045\n",
      "RMSE, R2 for Decision Trees= 0.0014304253751806857 0.18199902764468784\n",
      "RMSE, R2 for Decision Trees= 0.0013332845340653442 0.1104434077768324\n",
      "RMSE, R2 for Decision Trees= 0.001285529409172133 0.10163949589612045\n",
      "RMSE, R2 for Decision Trees= 0.0014304253751806857 0.18199902764468784\n",
      "RMSE, R2 for Decision Trees= 0.0013332845340653442 0.1104434077768324\n",
      "RMSE, R2 for Decision Trees= 0.001285529409172133 0.10163949589612045\n",
      "RMSE, R2 for Decision Trees= 0.0014304253751806857 0.18199902764468784\n",
      "RMSE, R2 for Decision Trees= 0.0013332845340653442 0.1104434077768324\n",
      "RMSE, R2 for Decision Trees= 0.001285529409172133 0.10163949589612045\n",
      "RMSE, R2 for Decision Trees= 0.0013936614824540412 0.18026295384750923\n",
      "RMSE, R2 for Decision Trees= 0.0012486759119641308 0.0835034980767241\n",
      "RMSE, R2 for Decision Trees= 0.0012317367574679636 0.06841982377265919\n",
      "RMSE, R2 for Decision Trees= 0.0014218675286315897 0.17809004745473148\n",
      "RMSE, R2 for Decision Trees= 0.0013073803967405756 0.1037477097505665\n",
      "RMSE, R2 for Decision Trees= 0.0012616058869400516 0.09806029158332379\n",
      "RMSE, R2 for Decision Trees= 0.0014336134158137175 0.18448363075599453\n",
      "RMSE, R2 for Decision Trees= 0.0013154597121823664 0.1105158514854377\n",
      "RMSE, R2 for Decision Trees= 0.0012919895744317534 0.10055494594264563\n",
      "RMSE, R2 for Decision Trees= 0.0014339384302255124 0.18453686128267344\n",
      "RMSE, R2 for Decision Trees= 0.0013194476126888286 0.11133255245084032\n",
      "RMSE, R2 for Decision Trees= 0.0012901762323810914 0.1014232797855316\n",
      "RMSE, R2 for Decision Trees= 0.0014339384302255124 0.18453686128267344\n",
      "RMSE, R2 for Decision Trees= 0.0013194476126888286 0.11133255245084032\n",
      "RMSE, R2 for Decision Trees= 0.0012905719913644529 0.10162672161098474\n",
      "RMSE, R2 for Decision Trees= 0.0014339384302255124 0.18453686128267344\n",
      "RMSE, R2 for Decision Trees= 0.0013194476126888286 0.11133255245084032\n",
      "RMSE, R2 for Decision Trees= 0.0012905719913644529 0.10162672161098474\n",
      "RMSE, R2 for Decision Trees= 0.0014339384302255124 0.18453686128267344\n",
      "RMSE, R2 for Decision Trees= 0.0013194476126888286 0.11133255245084032\n",
      "RMSE, R2 for Decision Trees= 0.0012905719913644529 0.10162672161098474\n",
      "RMSE, R2 for Decision Trees= 0.0014339384302255124 0.18453686128267344\n",
      "RMSE, R2 for Decision Trees= 0.0013194476126888286 0.11133255245084032\n",
      "RMSE, R2 for Decision Trees= 0.0012905719913644529 0.10162672161098474\n",
      "RMSE, R2 for Decision Trees= 0.0014339384302255124 0.18453686128267344\n",
      "RMSE, R2 for Decision Trees= 0.0013194476126888286 0.11133255245084032\n",
      "RMSE, R2 for Decision Trees= 0.0012905719913644529 0.10162672161098474\n",
      "RMSE, R2 for Decision Trees= 0.0014339384302255124 0.18453686128267344\n",
      "RMSE, R2 for Decision Trees= 0.0013194476126888286 0.11133255245084032\n",
      "RMSE, R2 for Decision Trees= 0.0012905719913644529 0.10162672161098474\n",
      "RMSE, R2 for Decision Trees= 0.0014339384302255124 0.18453686128267344\n",
      "RMSE, R2 for Decision Trees= 0.0013194476126888286 0.11133255245084032\n",
      "RMSE, R2 for Decision Trees= 0.0012905719913644529 0.10162672161098474\n",
      "Min hyperparameters:\n",
      "\tnum estimators: 20\n",
      "\tmax depth: 5\n",
      "\tmax features: log2\n",
      "Min val error: 0.0011772937760848264\n"
     ]
    }
   ],
   "source": [
    "# Model 2: Decision trees.\n",
    "dt_val_errors = np.zeros((len(choices_n_estimators), len(choices_max_depth), len(choices_max_features)))\n",
    "for i, choice_n_estimators in enumerate(choices_n_estimators):\n",
    "    for j, choice_max_depth in enumerate(choices_max_depth):\n",
    "        for k, choice_max_features in enumerate(choices_max_features):\n",
    "            regr = RandomForestRegressor(n_estimators=choice_n_estimators, max_depth=choice_max_depth,\n",
    "                                         max_features=choice_max_features, random_state=52017)\n",
    "            regr.fit(hyper_train_X, hyper_train_Y.flatten())\n",
    "            pred_rf = regr.predict(hyper_val_X)\n",
    "            pred_rf[np.where(pred_rf < 0)] = 0\n",
    "            assert (pred_rf >= 0).all() and (~np.isnan(pred_rf)).all()\n",
    "            mse = MSE(hyper_val_Y, pred_rf)\n",
    "            rsquared = r2(hyper_val_Y, pred_rf)\n",
    "            print(\"RMSE, R2 for Decision Trees=\", mse, rsquared)\n",
    "            dt_val_errors[i, j, k] = mse\n",
    "min_i_dt, min_j_dt, min_k_dt = np.unravel_index(dt_val_errors.argmin(), dt_val_errors.shape)\n",
    "print('Min hyperparameters:\\n\\tnum estimators: {0}\\n\\tmax depth: {1}\\n\\tmax features: {2}'.format(\n",
    "    choices_n_estimators[min_i_dt], choices_max_depth[min_j_dt], choices_max_features[min_k_dt]))\n",
    "print('Min val error: {0}'.format(dt_val_errors[min_i_dt, min_j_dt, min_k_dt]))"
   ]
  },
  {
   "cell_type": "markdown",
   "metadata": {},
   "source": [
    "## 4. Apply the best hyperparameters to the test data."
   ]
  },
  {
   "cell_type": "code",
   "execution_count": 183,
   "metadata": {},
   "outputs": [
    {
     "name": "stdout",
     "output_type": "stream",
     "text": [
      "iteration :  0  loss :  0.00044089808984901127\n",
      "iteration :  100  loss :  0.00032376744133977373\n",
      "iteration :  200  loss :  0.00029642585725917837\n",
      "iteration :  300  loss :  0.00028389689067383585\n",
      "RMSE, R2 using SGD= 0.0003706543419121669 0.07954946012134359\n"
     ]
    },
    {
     "data": {
      "image/png": "[encoded data removed]",
      "text/plain": [
       "<Figure size 432x288 with 1 Axes>"
      ]
     },
     "metadata": {
      "needs_background": "light"
     },
     "output_type": "display_data"
    }
   ],
   "source": [
    "# Model 1: Gradient descent.\n",
    "choice_s_theta, choice_s_cost = stochastic_gradient_descent(\n",
    "    choices_s_theta[min_i_gd], train_X, train_Y, choices_s_learning_rate[min_j_gd],\n",
    "    choices_s_max_iteration[min_k_gd],\n",
    "    100, verbose=True)\n",
    "GD_P = h(choice_s_theta, test_X)\n",
    "# Set any negative predictions to 0\n",
    "GD_P[GD_P < 0] = 0\n",
    "# Plot outputs\n",
    "plt.scatter(range(len(test_Y)), test_Y,  color='black')\n",
    "plt.scatter(range(len(GD_P)), GD_P, color='blue', linewidth=3)\n",
    "print(\"RMSE, R2 using SGD=\", MSE(test_Y,GD_P), r2(test_Y,GD_P))"
   ]
  },
  {
   "cell_type": "code",
   "execution_count": 184,
   "metadata": {},
   "outputs": [
    {
     "name": "stdout",
     "output_type": "stream",
     "text": [
      "RMSE, R2 for Decision Trees= 0.0003807023827976574 0.1191404601426942\n"
     ]
    },
    {
     "data": {
      "image/png": "[encoded data removed]",
      "text/plain": [
       "<Figure size 432x288 with 1 Axes>"
      ]
     },
     "metadata": {
      "needs_background": "light"
     },
     "output_type": "display_data"
    }
   ],
   "source": [
    "# Model 2: Decision trees.\n",
    "regr = RandomForestRegressor(n_estimators=choices_n_estimators[min_i_dt],\n",
    "                             max_depth=choices_max_depth[min_j_dt],\n",
    "                             max_features=choices_max_features[min_k_dt],\n",
    "                             random_state=52017)\n",
    "regr.fit(train_X, train_Y.flatten())\n",
    "pred_rf = regr.predict(test_X)\n",
    "pred_rf[np.where(pred_rf < 0)] = 0\n",
    "# Plot outputs\n",
    "plt.scatter(range(len(test_Y)), test_Y,  color='black')\n",
    "plt.scatter(range(len(pred_rf)), pred_rf, color='blue', linewidth=3)\n",
    "print(\"RMSE, R2 for Decision Trees=\", MSE(test_Y,pred_rf), r2(test_Y,pred_rf)) #[Low error high corr]"
   ]
  },
  {
   "cell_type": "markdown",
   "metadata": {},
   "source": [
    "## Conclusions\n",
    "\n",
    "For both models, hyperparameter optimization resulted in models with significantly lower MSE on the test dataset, indicating that our search was successful. However, based on the plots and the lower R2 values, these models may not produce the best predictions. For example, the un-optimized random forest plot seems to have predictions that more closely align with the test dataset, although there are more instances in which the model is very wrong. In contrast, the optimized random forest plot contains an almost uniform band of predictions that really only captures the mean value of the dataset. The same could be said of the gradient descent plots. So, for this dataset, reducing the size of the training dataset for hyperparameter optimization may not be the most effective strategy.\n",
    "\n",
    "Some of the numbers we see above for MSE and R2 are confusing, because a higher MSE often (but not always) leads to a lower R2 value; so a model whose predictions are more inaccurate can exibit higher correlation with the target. This requires further investigation that is beyond the scope of our work here. We are confident that the gradient descent and random forest algorithms are working as expected, however, because when we use the test set as the validation set, we can reproduce the results we obtained before hyperparameter optimization."
   ]
  },
  {
   "cell_type": "code",
   "execution_count": null,
   "metadata": {},
   "outputs": [],
   "source": []
  }
 ],
 "metadata": {
  "colab": {
   "collapsed_sections": [
    "toTX3W89fX2P",
    "Lx-wS125dnNk",
    "PCLgRXivdnNp",
    "fo-NxmSLdnNr",
    "B6D2kqejdnNv",
    "2ImYOho6dnNy",
    "i3ofJxdUdnN6"
   ],
   "name": "Car_sales_predictions_v3.ipynb",
   "provenance": [
    {
     "file_id": "1A5aKkAXYKm5ju0TNG-1yU44-hnWEhh__",
     "timestamp": 1603344980309
    }
   ]
  },
  "kernelspec": {
   "display_name": "Python 3",
   "language": "python",
   "name": "python3"
  },
  "language_info": {
   "codemirror_mode": {
    "name": "ipython",
    "version": 3
   },
   "file_extension": ".py",
   "mimetype": "text/x-python",
   "name": "python",
   "nbconvert_exporter": "python",
   "pygments_lexer": "ipython3",
   "version": "3.6.12"
  }
 },
 "nbformat": 4,
 "nbformat_minor": 1
}
